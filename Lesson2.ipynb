{
 "cells": [
  {
   "cell_type": "markdown",
   "metadata": {
    "collapsed": true,
    "pycharm": {
     "name": "#%% md\n"
    }
   },
   "source": [
    "### Задание 1\n",
    "В чём различие между зависимыми и независимыми выборками?"
   ]
  },
  {
   "cell_type": "markdown",
   "source": [
    "Зависимые выборки - выборки одинакового размера, где каждому элементу одной выборки  \n",
    "можно соответсвует элемент другой выборки. К примеру, значения признака до и после  \n",
    "определенного воздействия.\n",
    "Независимые выборки - выборки, у которых взаимосвязь между элементами отсутствует"
   ],
   "metadata": {
    "collapsed": false
   }
  },
  {
   "cell_type": "markdown",
   "source": [
    "### Задание 2\n",
    "Когда применяются параметрические статистические критерии,  \n",
    "а когда — их непараметрические аналоги?"
   ],
   "metadata": {
    "collapsed": false
   }
  },
  {
   "cell_type": "markdown",
   "source": [
    "Параметрические статистические критерии применяются тогда, когда есть информация о типе  \n",
    "распределения и при расчете критерия можно использовать значения параметров распределения.  \n",
    "Часто параметрические критерии используются для нормальных распределений.  \n",
    "Непараметрические критерии используются когда нет предположения о типе распределения  \n",
    "и в расчете критерия используются частоты или ранги.\n"
   ],
   "metadata": {
    "collapsed": false
   }
  }
 ],
 "metadata": {
  "kernelspec": {
   "display_name": "Python 3",
   "language": "python",
   "name": "python3"
  },
  "language_info": {
   "codemirror_mode": {
    "name": "ipython",
    "version": 2
   },
   "file_extension": ".py",
   "mimetype": "text/x-python",
   "name": "python",
   "nbconvert_exporter": "python",
   "pygments_lexer": "ipython2",
   "version": "2.7.6"
  },
  "pycharm": {
   "stem_cell": {
    "cell_type": "raw",
    "source": [],
    "metadata": {
     "collapsed": false
    }
   }
  }
 },
 "nbformat": 4,
 "nbformat_minor": 0
}