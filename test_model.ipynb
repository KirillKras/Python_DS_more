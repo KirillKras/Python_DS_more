{
 "cells": [
  {
   "cell_type": "code",
   "execution_count": 1,
   "metadata": {},
   "outputs": [],
   "source": [
    "import pandas as pd\n",
    "import numpy as np\n",
    "import scipy as sp\n",
    "import pickle\n",
    "from copy import deepcopy\n",
    "\n",
    "from sklearn.preprocessing import MinMaxScaler, StandardScaler\n",
    "from sklearn.model_selection import train_test_split, ShuffleSplit, cross_val_score, learning_curve\n",
    "from sklearn.model_selection import KFold, GridSearchCV, RandomizedSearchCV\n",
    "from sklearn.metrics import classification_report, f1_score, precision_score, recall_score\n",
    "from sklearn.ensemble import RandomForestRegressor as RFR\n",
    "\n",
    "from sklearn.linear_model import LinearRegression\n",
    "from sklearn.neighbors import KNeighborsClassifier\n",
    "from sklearn.cluster import KMeans\n",
    "from sklearn.cluster import AgglomerativeClustering\n",
    " \n",
    "#import lightgbm as lgb\n",
    "import catboost as catb\n",
    "\n",
    "import seaborn as sns\n",
    "import matplotlib.pyplot as plt"
   ]
  },
  {
   "cell_type": "code",
   "execution_count": 2,
   "metadata": {},
   "outputs": [],
   "source": [
    "df = pd.read_csv('course_project_test.csv')"
   ]
  },
  {
   "cell_type": "code",
   "execution_count": 3,
   "metadata": {},
   "outputs": [],
   "source": [
    "df1 = deepcopy(df)"
   ]
  },
  {
   "cell_type": "code",
   "execution_count": 4,
   "metadata": {},
   "outputs": [
    {
     "name": "stdout",
     "output_type": "stream",
     "text": [
      "<class 'pandas.core.frame.DataFrame'>\n",
      "RangeIndex: 2500 entries, 0 to 2499\n",
      "Data columns (total 16 columns):\n",
      " #   Column                        Non-Null Count  Dtype  \n",
      "---  ------                        --------------  -----  \n",
      " 0   Home Ownership                2500 non-null   object \n",
      " 1   Annual Income                 1987 non-null   float64\n",
      " 2   Years in current job          2414 non-null   object \n",
      " 3   Tax Liens                     2500 non-null   float64\n",
      " 4   Number of Open Accounts       2500 non-null   float64\n",
      " 5   Years of Credit History       2500 non-null   float64\n",
      " 6   Maximum Open Credit           2500 non-null   float64\n",
      " 7   Number of Credit Problems     2500 non-null   float64\n",
      " 8   Months since last delinquent  1142 non-null   float64\n",
      " 9   Bankruptcies                  2497 non-null   float64\n",
      " 10  Purpose                       2500 non-null   object \n",
      " 11  Term                          2500 non-null   object \n",
      " 12  Current Loan Amount           2500 non-null   float64\n",
      " 13  Current Credit Balance        2500 non-null   float64\n",
      " 14  Monthly Debt                  2500 non-null   float64\n",
      " 15  Credit Score                  1987 non-null   float64\n",
      "dtypes: float64(12), object(4)\n",
      "memory usage: 312.6+ KB\n"
     ]
    }
   ],
   "source": [
    "df.info()"
   ]
  },
  {
   "cell_type": "code",
   "execution_count": 5,
   "metadata": {},
   "outputs": [
    {
     "data": {
      "text/html": [
       "<div>\n",
       "<style scoped>\n",
       "    .dataframe tbody tr th:only-of-type {\n",
       "        vertical-align: middle;\n",
       "    }\n",
       "\n",
       "    .dataframe tbody tr th {\n",
       "        vertical-align: top;\n",
       "    }\n",
       "\n",
       "    .dataframe thead th {\n",
       "        text-align: right;\n",
       "    }\n",
       "</style>\n",
       "<table border=\"1\" class=\"dataframe\">\n",
       "  <thead>\n",
       "    <tr style=\"text-align: right;\">\n",
       "      <th></th>\n",
       "      <th>Annual Income</th>\n",
       "      <th>Tax Liens</th>\n",
       "      <th>Number of Open Accounts</th>\n",
       "      <th>Years of Credit History</th>\n",
       "      <th>Maximum Open Credit</th>\n",
       "      <th>Number of Credit Problems</th>\n",
       "      <th>Months since last delinquent</th>\n",
       "      <th>Bankruptcies</th>\n",
       "      <th>Current Loan Amount</th>\n",
       "      <th>Current Credit Balance</th>\n",
       "      <th>Monthly Debt</th>\n",
       "      <th>Credit Score</th>\n",
       "    </tr>\n",
       "  </thead>\n",
       "  <tbody>\n",
       "    <tr>\n",
       "      <th>count</th>\n",
       "      <td>1.987000e+03</td>\n",
       "      <td>2500.000000</td>\n",
       "      <td>2500.000000</td>\n",
       "      <td>2500.000000</td>\n",
       "      <td>2.500000e+03</td>\n",
       "      <td>2500.000000</td>\n",
       "      <td>1142.000000</td>\n",
       "      <td>2497.000000</td>\n",
       "      <td>2.500000e+03</td>\n",
       "      <td>2.500000e+03</td>\n",
       "      <td>2500.000000</td>\n",
       "      <td>1987.000000</td>\n",
       "    </tr>\n",
       "    <tr>\n",
       "      <th>mean</th>\n",
       "      <td>1.366922e+06</td>\n",
       "      <td>0.035200</td>\n",
       "      <td>11.184400</td>\n",
       "      <td>18.325920</td>\n",
       "      <td>7.105704e+05</td>\n",
       "      <td>0.162000</td>\n",
       "      <td>34.181261</td>\n",
       "      <td>0.106928</td>\n",
       "      <td>1.215572e+07</td>\n",
       "      <td>2.963966e+05</td>\n",
       "      <td>18271.340000</td>\n",
       "      <td>1234.516860</td>\n",
       "    </tr>\n",
       "    <tr>\n",
       "      <th>std</th>\n",
       "      <td>9.171252e+05</td>\n",
       "      <td>0.386291</td>\n",
       "      <td>4.852774</td>\n",
       "      <td>7.254659</td>\n",
       "      <td>1.511983e+06</td>\n",
       "      <td>0.559894</td>\n",
       "      <td>22.024277</td>\n",
       "      <td>0.357189</td>\n",
       "      <td>3.226097e+07</td>\n",
       "      <td>3.783020e+05</td>\n",
       "      <td>11543.881469</td>\n",
       "      <td>1740.219442</td>\n",
       "    </tr>\n",
       "    <tr>\n",
       "      <th>min</th>\n",
       "      <td>1.065330e+05</td>\n",
       "      <td>0.000000</td>\n",
       "      <td>1.000000</td>\n",
       "      <td>3.900000</td>\n",
       "      <td>0.000000e+00</td>\n",
       "      <td>0.000000</td>\n",
       "      <td>0.000000</td>\n",
       "      <td>0.000000</td>\n",
       "      <td>1.542200e+04</td>\n",
       "      <td>0.000000e+00</td>\n",
       "      <td>93.000000</td>\n",
       "      <td>585.000000</td>\n",
       "    </tr>\n",
       "    <tr>\n",
       "      <th>25%</th>\n",
       "      <td>8.523115e+05</td>\n",
       "      <td>0.000000</td>\n",
       "      <td>8.000000</td>\n",
       "      <td>13.400000</td>\n",
       "      <td>2.785860e+05</td>\n",
       "      <td>0.000000</td>\n",
       "      <td>16.000000</td>\n",
       "      <td>0.000000</td>\n",
       "      <td>1.871265e+05</td>\n",
       "      <td>1.101145e+05</td>\n",
       "      <td>10024.750000</td>\n",
       "      <td>710.000000</td>\n",
       "    </tr>\n",
       "    <tr>\n",
       "      <th>50%</th>\n",
       "      <td>1.178475e+06</td>\n",
       "      <td>0.000000</td>\n",
       "      <td>10.000000</td>\n",
       "      <td>17.000000</td>\n",
       "      <td>4.786760e+05</td>\n",
       "      <td>0.000000</td>\n",
       "      <td>30.000000</td>\n",
       "      <td>0.000000</td>\n",
       "      <td>3.223660e+05</td>\n",
       "      <td>2.073850e+05</td>\n",
       "      <td>16642.500000</td>\n",
       "      <td>731.000000</td>\n",
       "    </tr>\n",
       "    <tr>\n",
       "      <th>75%</th>\n",
       "      <td>1.629734e+06</td>\n",
       "      <td>0.000000</td>\n",
       "      <td>14.000000</td>\n",
       "      <td>22.100000</td>\n",
       "      <td>8.025985e+05</td>\n",
       "      <td>0.000000</td>\n",
       "      <td>50.000000</td>\n",
       "      <td>0.000000</td>\n",
       "      <td>5.225825e+05</td>\n",
       "      <td>3.663485e+05</td>\n",
       "      <td>24146.000000</td>\n",
       "      <td>743.000000</td>\n",
       "    </tr>\n",
       "    <tr>\n",
       "      <th>max</th>\n",
       "      <td>1.497561e+07</td>\n",
       "      <td>15.000000</td>\n",
       "      <td>48.000000</td>\n",
       "      <td>53.400000</td>\n",
       "      <td>5.448439e+07</td>\n",
       "      <td>15.000000</td>\n",
       "      <td>82.000000</td>\n",
       "      <td>5.000000</td>\n",
       "      <td>1.000000e+08</td>\n",
       "      <td>6.030087e+06</td>\n",
       "      <td>93555.000000</td>\n",
       "      <td>7480.000000</td>\n",
       "    </tr>\n",
       "  </tbody>\n",
       "</table>\n",
       "</div>"
      ],
      "text/plain": [
       "       Annual Income    Tax Liens  Number of Open Accounts  \\\n",
       "count   1.987000e+03  2500.000000              2500.000000   \n",
       "mean    1.366922e+06     0.035200                11.184400   \n",
       "std     9.171252e+05     0.386291                 4.852774   \n",
       "min     1.065330e+05     0.000000                 1.000000   \n",
       "25%     8.523115e+05     0.000000                 8.000000   \n",
       "50%     1.178475e+06     0.000000                10.000000   \n",
       "75%     1.629734e+06     0.000000                14.000000   \n",
       "max     1.497561e+07    15.000000                48.000000   \n",
       "\n",
       "       Years of Credit History  Maximum Open Credit  \\\n",
       "count              2500.000000         2.500000e+03   \n",
       "mean                 18.325920         7.105704e+05   \n",
       "std                   7.254659         1.511983e+06   \n",
       "min                   3.900000         0.000000e+00   \n",
       "25%                  13.400000         2.785860e+05   \n",
       "50%                  17.000000         4.786760e+05   \n",
       "75%                  22.100000         8.025985e+05   \n",
       "max                  53.400000         5.448439e+07   \n",
       "\n",
       "       Number of Credit Problems  Months since last delinquent  Bankruptcies  \\\n",
       "count                2500.000000                   1142.000000   2497.000000   \n",
       "mean                    0.162000                     34.181261      0.106928   \n",
       "std                     0.559894                     22.024277      0.357189   \n",
       "min                     0.000000                      0.000000      0.000000   \n",
       "25%                     0.000000                     16.000000      0.000000   \n",
       "50%                     0.000000                     30.000000      0.000000   \n",
       "75%                     0.000000                     50.000000      0.000000   \n",
       "max                    15.000000                     82.000000      5.000000   \n",
       "\n",
       "       Current Loan Amount  Current Credit Balance  Monthly Debt  Credit Score  \n",
       "count         2.500000e+03            2.500000e+03   2500.000000   1987.000000  \n",
       "mean          1.215572e+07            2.963966e+05  18271.340000   1234.516860  \n",
       "std           3.226097e+07            3.783020e+05  11543.881469   1740.219442  \n",
       "min           1.542200e+04            0.000000e+00     93.000000    585.000000  \n",
       "25%           1.871265e+05            1.101145e+05  10024.750000    710.000000  \n",
       "50%           3.223660e+05            2.073850e+05  16642.500000    731.000000  \n",
       "75%           5.225825e+05            3.663485e+05  24146.000000    743.000000  \n",
       "max           1.000000e+08            6.030087e+06  93555.000000   7480.000000  "
      ]
     },
     "execution_count": 5,
     "metadata": {},
     "output_type": "execute_result"
    }
   ],
   "source": [
    "df.describe()"
   ]
  },
  {
   "cell_type": "markdown",
   "metadata": {},
   "source": [
    "## Обработка категориальных переменных"
   ]
  },
  {
   "cell_type": "markdown",
   "metadata": {},
   "source": [
    "### Years in current job"
   ]
  },
  {
   "cell_type": "code",
   "execution_count": 6,
   "metadata": {},
   "outputs": [],
   "source": [
    "df['Years in current job'] = df['Years in current job'].apply(lambda x: 0 if pd.isnull(x) else 1)"
   ]
  },
  {
   "cell_type": "code",
   "execution_count": 7,
   "metadata": {},
   "outputs": [
    {
     "data": {
      "text/plain": [
       "1    2414\n",
       "0      86\n",
       "Name: Years in current job, dtype: int64"
      ]
     },
     "execution_count": 7,
     "metadata": {},
     "output_type": "execute_result"
    }
   ],
   "source": [
    "df['Years in current job'].value_counts()"
   ]
  },
  {
   "cell_type": "markdown",
   "metadata": {},
   "source": [
    "### Home Ownership"
   ]
  },
  {
   "cell_type": "code",
   "execution_count": 8,
   "metadata": {},
   "outputs": [],
   "source": [
    "def process_ownerchip(value):\n",
    "    if value in ['Own Home', 'Rent']:\n",
    "        return 0\n",
    "    else:\n",
    "        return 1\n",
    "\n",
    "df['Home Ownership'] = df['Home Ownership'].apply(process_ownerchip)"
   ]
  },
  {
   "cell_type": "code",
   "execution_count": 9,
   "metadata": {},
   "outputs": [
    {
     "data": {
      "text/plain": [
       "0    1268\n",
       "1    1232\n",
       "Name: Home Ownership, dtype: int64"
      ]
     },
     "execution_count": 9,
     "metadata": {},
     "output_type": "execute_result"
    }
   ],
   "source": [
    "df['Home Ownership'].value_counts()"
   ]
  },
  {
   "cell_type": "markdown",
   "metadata": {},
   "source": [
    "### Term"
   ]
  },
  {
   "cell_type": "code",
   "execution_count": 10,
   "metadata": {},
   "outputs": [],
   "source": [
    "df['Term'] = df['Term'].apply(lambda x: 0 if x == 'Short Term' else 1)"
   ]
  },
  {
   "cell_type": "code",
   "execution_count": 11,
   "metadata": {},
   "outputs": [
    {
     "data": {
      "text/plain": [
       "0    1861\n",
       "1     639\n",
       "Name: Term, dtype: int64"
      ]
     },
     "execution_count": 11,
     "metadata": {},
     "output_type": "execute_result"
    }
   ],
   "source": [
    "df['Term'].value_counts()"
   ]
  },
  {
   "cell_type": "markdown",
   "metadata": {},
   "source": [
    "### Purpose"
   ]
  },
  {
   "cell_type": "code",
   "execution_count": 12,
   "metadata": {},
   "outputs": [],
   "source": [
    "def process_purpose(value):\n",
    "    columns_0 = ['debt consolidation',\n",
    "            'other',    \n",
    "            'home improvements',\n",
    "            'take a trip',\n",
    "            'buy a car',\n",
    "            'wedding',\n",
    "            'buy house',\n",
    "            'medical bills',\n",
    "            'major purchase']\n",
    "    columns_1 = ['business loan',\n",
    "                 'small business']\n",
    "    if value in columns_0:\n",
    "        return 0\n",
    "    elif value in columns_1:\n",
    "        return 1\n",
    "    else:\n",
    "        return 2\n",
    "\n",
    "df['Purpose'] = df['Purpose'].apply(process_purpose)"
   ]
  },
  {
   "cell_type": "markdown",
   "metadata": {},
   "source": [
    "### Tax Liens"
   ]
  },
  {
   "cell_type": "code",
   "execution_count": 13,
   "metadata": {},
   "outputs": [],
   "source": [
    "def process_tax(value):\n",
    "    columns_0 = [0, 1]\n",
    "    columns_1 = range(2, 6)\n",
    "    columns_3 = [6, 7]\n",
    "    if value in columns_0:\n",
    "        return 0\n",
    "    elif value in columns_1:\n",
    "        return 1\n",
    "    else:\n",
    "        return 2\n",
    "\n",
    "df['Tax Liens'] = df['Tax Liens'].apply(process_tax)"
   ]
  },
  {
   "cell_type": "markdown",
   "metadata": {},
   "source": [
    "### Years of Credit History"
   ]
  },
  {
   "cell_type": "code",
   "execution_count": 14,
   "metadata": {},
   "outputs": [],
   "source": [
    "df['Years of Credit History'] /= 5\n",
    "df['Years of Credit History'] = df['Years of Credit History'].astype(int)"
   ]
  },
  {
   "cell_type": "code",
   "execution_count": 15,
   "metadata": {},
   "outputs": [],
   "source": [
    "def convert_years_credit_history(value):\n",
    "\n",
    "    if (value in [0, 1, 4]) or value >= 6:\n",
    "        return 0\n",
    "    elif value in [2, 3, 5]:\n",
    "        return 1\n",
    "df['Years of Credit History'] = df['Years of Credit History'].astype('int')\n",
    "df['Years of Credit History'] = df['Years of Credit History'].apply(convert_years_credit_history)"
   ]
  },
  {
   "cell_type": "markdown",
   "metadata": {},
   "source": [
    "### Number of Credit Problems"
   ]
  },
  {
   "cell_type": "code",
   "execution_count": 16,
   "metadata": {},
   "outputs": [],
   "source": [
    "df['Number of Credit Problems'] = df['Number of Credit Problems'].apply(lambda x: 1 if x > 1 else 0)"
   ]
  },
  {
   "cell_type": "markdown",
   "metadata": {},
   "source": [
    "### Number of Credit Problems + Tax Lies"
   ]
  },
  {
   "cell_type": "code",
   "execution_count": 17,
   "metadata": {},
   "outputs": [],
   "source": [
    "df_clust = df.loc[:, ['Tax Liens', 'Number of Credit Problems']]"
   ]
  },
  {
   "cell_type": "code",
   "execution_count": 18,
   "metadata": {},
   "outputs": [],
   "source": [
    "with open('cluster_scaler.bin', 'rb') as f:\n",
    "    scaler = pickle.load(f)\n",
    "train_scaled = scaler.transform(df_clust)"
   ]
  },
  {
   "cell_type": "code",
   "execution_count": 19,
   "metadata": {},
   "outputs": [
    {
     "name": "stderr",
     "output_type": "stream",
     "text": [
      "<ipython-input-19-279199084f8c>:4: ConvergenceWarning: Number of distinct clusters (4) found smaller than n_clusters (5). Possibly due to duplicate points in X.\n",
      "  temp_model.fit(train_scaled)\n",
      "<ipython-input-19-279199084f8c>:4: ConvergenceWarning: Number of distinct clusters (4) found smaller than n_clusters (6). Possibly due to duplicate points in X.\n",
      "  temp_model.fit(train_scaled)\n",
      "<ipython-input-19-279199084f8c>:4: ConvergenceWarning: Number of distinct clusters (4) found smaller than n_clusters (7). Possibly due to duplicate points in X.\n",
      "  temp_model.fit(train_scaled)\n",
      "<ipython-input-19-279199084f8c>:4: ConvergenceWarning: Number of distinct clusters (4) found smaller than n_clusters (8). Possibly due to duplicate points in X.\n",
      "  temp_model.fit(train_scaled)\n",
      "<ipython-input-19-279199084f8c>:4: ConvergenceWarning: Number of distinct clusters (4) found smaller than n_clusters (9). Possibly due to duplicate points in X.\n",
      "  temp_model.fit(train_scaled)\n"
     ]
    }
   ],
   "source": [
    "inertia_arr = []\n",
    "for i in range(2, 10):\n",
    "    temp_model = KMeans(n_clusters=i, random_state=42)\n",
    "    temp_model.fit(train_scaled)\n",
    "    inertia_arr.append(temp_model.inertia_ )"
   ]
  },
  {
   "cell_type": "code",
   "execution_count": 20,
   "metadata": {},
   "outputs": [],
   "source": [
    "with open('cluster_model.bin', 'rb') as f:\n",
    "    model = pickle.load(f)"
   ]
  },
  {
   "cell_type": "code",
   "execution_count": 21,
   "metadata": {},
   "outputs": [],
   "source": [
    "df['tax_problems'] = model.fit_predict(train_scaled)"
   ]
  },
  {
   "cell_type": "markdown",
   "metadata": {},
   "source": [
    "### Итого категориальные признаки:"
   ]
  },
  {
   "cell_type": "code",
   "execution_count": 22,
   "metadata": {},
   "outputs": [],
   "source": [
    "CAT_FEATURES = ['Years in current job', 'Home Ownership', 'Term', 'Purpose', \n",
    "                'Years of Credit History', 'tax_problems']"
   ]
  },
  {
   "cell_type": "code",
   "execution_count": 23,
   "metadata": {},
   "outputs": [
    {
     "data": {
      "text/html": [
       "<div>\n",
       "<style scoped>\n",
       "    .dataframe tbody tr th:only-of-type {\n",
       "        vertical-align: middle;\n",
       "    }\n",
       "\n",
       "    .dataframe tbody tr th {\n",
       "        vertical-align: top;\n",
       "    }\n",
       "\n",
       "    .dataframe thead th {\n",
       "        text-align: right;\n",
       "    }\n",
       "</style>\n",
       "<table border=\"1\" class=\"dataframe\">\n",
       "  <thead>\n",
       "    <tr style=\"text-align: right;\">\n",
       "      <th></th>\n",
       "      <th>Years in current job</th>\n",
       "      <th>Home Ownership</th>\n",
       "      <th>Term</th>\n",
       "      <th>Purpose</th>\n",
       "      <th>Years of Credit History</th>\n",
       "      <th>tax_problems</th>\n",
       "    </tr>\n",
       "  </thead>\n",
       "  <tbody>\n",
       "    <tr>\n",
       "      <th>count</th>\n",
       "      <td>2500.000000</td>\n",
       "      <td>2500.000000</td>\n",
       "      <td>2500.000000</td>\n",
       "      <td>2500.000000</td>\n",
       "      <td>2500.000000</td>\n",
       "      <td>2500.000000</td>\n",
       "    </tr>\n",
       "    <tr>\n",
       "      <th>mean</th>\n",
       "      <td>0.965600</td>\n",
       "      <td>0.492800</td>\n",
       "      <td>0.255600</td>\n",
       "      <td>0.019600</td>\n",
       "      <td>0.656400</td>\n",
       "      <td>1.009200</td>\n",
       "    </tr>\n",
       "    <tr>\n",
       "      <th>std</th>\n",
       "      <td>0.182291</td>\n",
       "      <td>0.500048</td>\n",
       "      <td>0.436285</td>\n",
       "      <td>0.157562</td>\n",
       "      <td>0.475005</td>\n",
       "      <td>0.130852</td>\n",
       "    </tr>\n",
       "    <tr>\n",
       "      <th>min</th>\n",
       "      <td>0.000000</td>\n",
       "      <td>0.000000</td>\n",
       "      <td>0.000000</td>\n",
       "      <td>0.000000</td>\n",
       "      <td>0.000000</td>\n",
       "      <td>0.000000</td>\n",
       "    </tr>\n",
       "    <tr>\n",
       "      <th>25%</th>\n",
       "      <td>1.000000</td>\n",
       "      <td>0.000000</td>\n",
       "      <td>0.000000</td>\n",
       "      <td>0.000000</td>\n",
       "      <td>0.000000</td>\n",
       "      <td>1.000000</td>\n",
       "    </tr>\n",
       "    <tr>\n",
       "      <th>50%</th>\n",
       "      <td>1.000000</td>\n",
       "      <td>0.000000</td>\n",
       "      <td>0.000000</td>\n",
       "      <td>0.000000</td>\n",
       "      <td>1.000000</td>\n",
       "      <td>1.000000</td>\n",
       "    </tr>\n",
       "    <tr>\n",
       "      <th>75%</th>\n",
       "      <td>1.000000</td>\n",
       "      <td>1.000000</td>\n",
       "      <td>1.000000</td>\n",
       "      <td>0.000000</td>\n",
       "      <td>1.000000</td>\n",
       "      <td>1.000000</td>\n",
       "    </tr>\n",
       "    <tr>\n",
       "      <th>max</th>\n",
       "      <td>1.000000</td>\n",
       "      <td>1.000000</td>\n",
       "      <td>1.000000</td>\n",
       "      <td>2.000000</td>\n",
       "      <td>1.000000</td>\n",
       "      <td>2.000000</td>\n",
       "    </tr>\n",
       "  </tbody>\n",
       "</table>\n",
       "</div>"
      ],
      "text/plain": [
       "       Years in current job  Home Ownership         Term      Purpose  \\\n",
       "count           2500.000000     2500.000000  2500.000000  2500.000000   \n",
       "mean               0.965600        0.492800     0.255600     0.019600   \n",
       "std                0.182291        0.500048     0.436285     0.157562   \n",
       "min                0.000000        0.000000     0.000000     0.000000   \n",
       "25%                1.000000        0.000000     0.000000     0.000000   \n",
       "50%                1.000000        0.000000     0.000000     0.000000   \n",
       "75%                1.000000        1.000000     1.000000     0.000000   \n",
       "max                1.000000        1.000000     1.000000     2.000000   \n",
       "\n",
       "       Years of Credit History  tax_problems  \n",
       "count              2500.000000   2500.000000  \n",
       "mean                  0.656400      1.009200  \n",
       "std                   0.475005      0.130852  \n",
       "min                   0.000000      0.000000  \n",
       "25%                   0.000000      1.000000  \n",
       "50%                   1.000000      1.000000  \n",
       "75%                   1.000000      1.000000  \n",
       "max                   1.000000      2.000000  "
      ]
     },
     "execution_count": 23,
     "metadata": {},
     "output_type": "execute_result"
    }
   ],
   "source": [
    "df[CAT_FEATURES].describe()"
   ]
  },
  {
   "cell_type": "code",
   "execution_count": 24,
   "metadata": {},
   "outputs": [],
   "source": [
    "df[CAT_FEATURES] = df[CAT_FEATURES].astype('uint8')\n",
    "df['tax_problems'] = df['tax_problems'].astype(object)\n",
    "df['Purpose'] = df['Purpose'].astype(object)\n",
    "df = pd.get_dummies(df)"
   ]
  },
  {
   "cell_type": "code",
   "execution_count": 25,
   "metadata": {},
   "outputs": [
    {
     "data": {
      "text/html": [
       "<div>\n",
       "<style scoped>\n",
       "    .dataframe tbody tr th:only-of-type {\n",
       "        vertical-align: middle;\n",
       "    }\n",
       "\n",
       "    .dataframe tbody tr th {\n",
       "        vertical-align: top;\n",
       "    }\n",
       "\n",
       "    .dataframe thead th {\n",
       "        text-align: right;\n",
       "    }\n",
       "</style>\n",
       "<table border=\"1\" class=\"dataframe\">\n",
       "  <thead>\n",
       "    <tr style=\"text-align: right;\">\n",
       "      <th></th>\n",
       "      <th>Years in current job</th>\n",
       "      <th>Home Ownership</th>\n",
       "      <th>Term</th>\n",
       "      <th>Years of Credit History</th>\n",
       "      <th>Purpose_0</th>\n",
       "      <th>Purpose_1</th>\n",
       "      <th>Purpose_2</th>\n",
       "      <th>tax_problems_0</th>\n",
       "      <th>tax_problems_1</th>\n",
       "      <th>tax_problems_2</th>\n",
       "    </tr>\n",
       "  </thead>\n",
       "  <tbody>\n",
       "    <tr>\n",
       "      <th>count</th>\n",
       "      <td>2500.000000</td>\n",
       "      <td>2500.000000</td>\n",
       "      <td>2500.000000</td>\n",
       "      <td>2500.000000</td>\n",
       "      <td>2500.000000</td>\n",
       "      <td>2500.000000</td>\n",
       "      <td>2500.000000</td>\n",
       "      <td>2500.000000</td>\n",
       "      <td>2500.000000</td>\n",
       "      <td>2500.000000</td>\n",
       "    </tr>\n",
       "    <tr>\n",
       "      <th>mean</th>\n",
       "      <td>0.965600</td>\n",
       "      <td>0.492800</td>\n",
       "      <td>0.255600</td>\n",
       "      <td>0.656400</td>\n",
       "      <td>0.983200</td>\n",
       "      <td>0.014000</td>\n",
       "      <td>0.002800</td>\n",
       "      <td>0.004000</td>\n",
       "      <td>0.982800</td>\n",
       "      <td>0.013200</td>\n",
       "    </tr>\n",
       "    <tr>\n",
       "      <th>std</th>\n",
       "      <td>0.182291</td>\n",
       "      <td>0.500048</td>\n",
       "      <td>0.436285</td>\n",
       "      <td>0.475005</td>\n",
       "      <td>0.128547</td>\n",
       "      <td>0.117514</td>\n",
       "      <td>0.052851</td>\n",
       "      <td>0.063132</td>\n",
       "      <td>0.130042</td>\n",
       "      <td>0.114153</td>\n",
       "    </tr>\n",
       "    <tr>\n",
       "      <th>min</th>\n",
       "      <td>0.000000</td>\n",
       "      <td>0.000000</td>\n",
       "      <td>0.000000</td>\n",
       "      <td>0.000000</td>\n",
       "      <td>0.000000</td>\n",
       "      <td>0.000000</td>\n",
       "      <td>0.000000</td>\n",
       "      <td>0.000000</td>\n",
       "      <td>0.000000</td>\n",
       "      <td>0.000000</td>\n",
       "    </tr>\n",
       "    <tr>\n",
       "      <th>25%</th>\n",
       "      <td>1.000000</td>\n",
       "      <td>0.000000</td>\n",
       "      <td>0.000000</td>\n",
       "      <td>0.000000</td>\n",
       "      <td>1.000000</td>\n",
       "      <td>0.000000</td>\n",
       "      <td>0.000000</td>\n",
       "      <td>0.000000</td>\n",
       "      <td>1.000000</td>\n",
       "      <td>0.000000</td>\n",
       "    </tr>\n",
       "    <tr>\n",
       "      <th>50%</th>\n",
       "      <td>1.000000</td>\n",
       "      <td>0.000000</td>\n",
       "      <td>0.000000</td>\n",
       "      <td>1.000000</td>\n",
       "      <td>1.000000</td>\n",
       "      <td>0.000000</td>\n",
       "      <td>0.000000</td>\n",
       "      <td>0.000000</td>\n",
       "      <td>1.000000</td>\n",
       "      <td>0.000000</td>\n",
       "    </tr>\n",
       "    <tr>\n",
       "      <th>75%</th>\n",
       "      <td>1.000000</td>\n",
       "      <td>1.000000</td>\n",
       "      <td>1.000000</td>\n",
       "      <td>1.000000</td>\n",
       "      <td>1.000000</td>\n",
       "      <td>0.000000</td>\n",
       "      <td>0.000000</td>\n",
       "      <td>0.000000</td>\n",
       "      <td>1.000000</td>\n",
       "      <td>0.000000</td>\n",
       "    </tr>\n",
       "    <tr>\n",
       "      <th>max</th>\n",
       "      <td>1.000000</td>\n",
       "      <td>1.000000</td>\n",
       "      <td>1.000000</td>\n",
       "      <td>1.000000</td>\n",
       "      <td>1.000000</td>\n",
       "      <td>1.000000</td>\n",
       "      <td>1.000000</td>\n",
       "      <td>1.000000</td>\n",
       "      <td>1.000000</td>\n",
       "      <td>1.000000</td>\n",
       "    </tr>\n",
       "  </tbody>\n",
       "</table>\n",
       "</div>"
      ],
      "text/plain": [
       "       Years in current job  Home Ownership         Term  \\\n",
       "count           2500.000000     2500.000000  2500.000000   \n",
       "mean               0.965600        0.492800     0.255600   \n",
       "std                0.182291        0.500048     0.436285   \n",
       "min                0.000000        0.000000     0.000000   \n",
       "25%                1.000000        0.000000     0.000000   \n",
       "50%                1.000000        0.000000     0.000000   \n",
       "75%                1.000000        1.000000     1.000000   \n",
       "max                1.000000        1.000000     1.000000   \n",
       "\n",
       "       Years of Credit History    Purpose_0    Purpose_1    Purpose_2  \\\n",
       "count              2500.000000  2500.000000  2500.000000  2500.000000   \n",
       "mean                  0.656400     0.983200     0.014000     0.002800   \n",
       "std                   0.475005     0.128547     0.117514     0.052851   \n",
       "min                   0.000000     0.000000     0.000000     0.000000   \n",
       "25%                   0.000000     1.000000     0.000000     0.000000   \n",
       "50%                   1.000000     1.000000     0.000000     0.000000   \n",
       "75%                   1.000000     1.000000     0.000000     0.000000   \n",
       "max                   1.000000     1.000000     1.000000     1.000000   \n",
       "\n",
       "       tax_problems_0  tax_problems_1  tax_problems_2  \n",
       "count     2500.000000     2500.000000     2500.000000  \n",
       "mean         0.004000        0.982800        0.013200  \n",
       "std          0.063132        0.130042        0.114153  \n",
       "min          0.000000        0.000000        0.000000  \n",
       "25%          0.000000        1.000000        0.000000  \n",
       "50%          0.000000        1.000000        0.000000  \n",
       "75%          0.000000        1.000000        0.000000  \n",
       "max          1.000000        1.000000        1.000000  "
      ]
     },
     "execution_count": 25,
     "metadata": {},
     "output_type": "execute_result"
    }
   ],
   "source": [
    "CAT_FEATURES = ['Years in current job', 'Home Ownership', 'Term',\n",
    " 'Years of Credit History', 'Purpose_0', 'Purpose_1', 'Purpose_2',\n",
    " 'tax_problems_0', 'tax_problems_1', 'tax_problems_2']\n",
    "df[CAT_FEATURES].describe()"
   ]
  },
  {
   "cell_type": "markdown",
   "metadata": {},
   "source": [
    "## Числовые признаки"
   ]
  },
  {
   "cell_type": "code",
   "execution_count": 26,
   "metadata": {},
   "outputs": [],
   "source": [
    "with open('lambdas.bin', 'rb') as f:\n",
    "    lambdas = pickle.load(f)"
   ]
  },
  {
   "cell_type": "code",
   "execution_count": 27,
   "metadata": {},
   "outputs": [
    {
     "data": {
      "text/plain": [
       "{'max_credit_lambda': 0.22046164596449688,\n",
       " 'credit_balance_lambda': 0.35171364548679723,\n",
       " 'loan_amount_lambda': 0.3620896643157912,\n",
       " 'number_accounts_lambda': 0.19648893786669672,\n",
       " 'month_dept_lambda': 0.438109113536189,\n",
       " 'annual_income_lambda': -0.013750754533739432,\n",
       " 'credit_score_lambda': 18.64423567315302}"
      ]
     },
     "execution_count": 27,
     "metadata": {},
     "output_type": "execute_result"
    }
   ],
   "source": [
    "lambdas"
   ]
  },
  {
   "cell_type": "markdown",
   "metadata": {},
   "source": [
    "### Maximum Open Credit"
   ]
  },
  {
   "cell_type": "code",
   "execution_count": 28,
   "metadata": {},
   "outputs": [
    {
     "data": {
      "text/plain": [
       "(2500,)"
      ]
     },
     "execution_count": 28,
     "metadata": {},
     "output_type": "execute_result"
    }
   ],
   "source": [
    "df['Maximum Open Credit'].shape"
   ]
  },
  {
   "cell_type": "code",
   "execution_count": 29,
   "metadata": {},
   "outputs": [
    {
     "data": {
      "text/plain": [
       "<matplotlib.axes._subplots.AxesSubplot at 0x126dce1c0>"
      ]
     },
     "execution_count": 29,
     "metadata": {},
     "output_type": "execute_result"
    },
    {
     "data": {
      "image/png": "[encoded data removed]",
      "text/plain": [
       "<Figure size 432x288 with 1 Axes>"
      ]
     },
     "metadata": {
      "needs_background": "light"
     },
     "output_type": "display_data"
    }
   ],
   "source": [
    "sns.boxplot(df['Maximum Open Credit'])"
   ]
  },
  {
   "cell_type": "code",
   "execution_count": 30,
   "metadata": {},
   "outputs": [
    {
     "data": {
      "text/plain": [
       "228     54484386.0\n",
       "1568    26069956.0\n",
       "2152    20842404.0\n",
       "584     19185386.0\n",
       "222     15568542.0\n",
       "1455     8693828.0\n",
       "1872     8440410.0\n",
       "2014     7343028.0\n",
       "285      6425034.0\n",
       "1683     6404046.0\n",
       "Name: Maximum Open Credit, dtype: float64"
      ]
     },
     "execution_count": 30,
     "metadata": {},
     "output_type": "execute_result"
    }
   ],
   "source": [
    "df['Maximum Open Credit'].sort_values(ascending=False).head(10)"
   ]
  },
  {
   "cell_type": "code",
   "execution_count": 31,
   "metadata": {},
   "outputs": [],
   "source": [
    "df['Maximum Open Credit'] = sp.stats.yeojohnson(df['Maximum Open Credit'], lambdas['max_credit_lambda'])"
   ]
  },
  {
   "cell_type": "markdown",
   "metadata": {},
   "source": [
    "### Current Credit Balance"
   ]
  },
  {
   "cell_type": "code",
   "execution_count": 32,
   "metadata": {},
   "outputs": [],
   "source": [
    "df['Current Credit Balance'] = sp.stats.yeojohnson(df['Current Credit Balance'], lambdas['credit_balance_lambda'])"
   ]
  },
  {
   "cell_type": "markdown",
   "metadata": {},
   "source": [
    "### Current Loan Amount"
   ]
  },
  {
   "cell_type": "code",
   "execution_count": 33,
   "metadata": {},
   "outputs": [
    {
     "data": {
      "text/plain": [
       "<matplotlib.axes._subplots.AxesSubplot at 0x107cd0520>"
      ]
     },
     "execution_count": 33,
     "metadata": {},
     "output_type": "execute_result"
    },
    {
     "data": {
      "image/png": "[encoded data removed]",
      "text/plain": [
       "<Figure size 432x288 with 1 Axes>"
      ]
     },
     "metadata": {
      "needs_background": "light"
     },
     "output_type": "display_data"
    }
   ],
   "source": [
    "sns.boxplot(df['Current Loan Amount'])"
   ]
  },
  {
   "cell_type": "code",
   "execution_count": 34,
   "metadata": {},
   "outputs": [],
   "source": [
    "df['Current Loan Max'] = (df['Current Loan Amount'] / 99999999.0)\n",
    "df['Current Loan Max'] = df['Current Loan Max'].astype(int)\n",
    "CAT_FEATURES.append('Current Loan Max')"
   ]
  },
  {
   "cell_type": "code",
   "execution_count": 35,
   "metadata": {},
   "outputs": [
    {
     "data": {
      "text/plain": [
       "0    2203\n",
       "1     297\n",
       "Name: Current Loan Max, dtype: int64"
      ]
     },
     "execution_count": 35,
     "metadata": {},
     "output_type": "execute_result"
    }
   ],
   "source": [
    "df['Current Loan Max'].value_counts()"
   ]
  },
  {
   "cell_type": "code",
   "execution_count": 36,
   "metadata": {},
   "outputs": [
    {
     "data": {
      "text/plain": [
       "['Years in current job',\n",
       " 'Home Ownership',\n",
       " 'Term',\n",
       " 'Years of Credit History',\n",
       " 'Purpose_0',\n",
       " 'Purpose_1',\n",
       " 'Purpose_2',\n",
       " 'tax_problems_0',\n",
       " 'tax_problems_1',\n",
       " 'tax_problems_2',\n",
       " 'Current Loan Max']"
      ]
     },
     "execution_count": 36,
     "metadata": {},
     "output_type": "execute_result"
    }
   ],
   "source": [
    "CAT_FEATURES"
   ]
  },
  {
   "cell_type": "code",
   "execution_count": 37,
   "metadata": {},
   "outputs": [],
   "source": [
    "df.loc[df['Current Loan Amount'] == 99999999.0, 'Current Loan Amount'] = 264704.0"
   ]
  },
  {
   "cell_type": "code",
   "execution_count": 38,
   "metadata": {},
   "outputs": [],
   "source": [
    "df['Current Loan Amount'] = sp.stats.yeojohnson(df['Current Loan Amount'], lambdas['loan_amount_lambda'])"
   ]
  },
  {
   "cell_type": "code",
   "execution_count": 39,
   "metadata": {},
   "outputs": [
    {
     "data": {
      "text/html": [
       "<div>\n",
       "<style scoped>\n",
       "    .dataframe tbody tr th:only-of-type {\n",
       "        vertical-align: middle;\n",
       "    }\n",
       "\n",
       "    .dataframe tbody tr th {\n",
       "        vertical-align: top;\n",
       "    }\n",
       "\n",
       "    .dataframe thead th {\n",
       "        text-align: right;\n",
       "    }\n",
       "</style>\n",
       "<table border=\"1\" class=\"dataframe\">\n",
       "  <thead>\n",
       "    <tr style=\"text-align: right;\">\n",
       "      <th></th>\n",
       "      <th>Home Ownership</th>\n",
       "      <th>Annual Income</th>\n",
       "      <th>Years in current job</th>\n",
       "      <th>Tax Liens</th>\n",
       "      <th>Number of Open Accounts</th>\n",
       "      <th>Years of Credit History</th>\n",
       "      <th>Maximum Open Credit</th>\n",
       "      <th>Number of Credit Problems</th>\n",
       "      <th>Months since last delinquent</th>\n",
       "      <th>Bankruptcies</th>\n",
       "      <th>...</th>\n",
       "      <th>Current Credit Balance</th>\n",
       "      <th>Monthly Debt</th>\n",
       "      <th>Credit Score</th>\n",
       "      <th>Purpose_0</th>\n",
       "      <th>Purpose_1</th>\n",
       "      <th>Purpose_2</th>\n",
       "      <th>tax_problems_0</th>\n",
       "      <th>tax_problems_1</th>\n",
       "      <th>tax_problems_2</th>\n",
       "      <th>Current Loan Max</th>\n",
       "    </tr>\n",
       "  </thead>\n",
       "  <tbody>\n",
       "    <tr>\n",
       "      <th>count</th>\n",
       "      <td>2500.000000</td>\n",
       "      <td>1.987000e+03</td>\n",
       "      <td>2500.000000</td>\n",
       "      <td>2500.000000</td>\n",
       "      <td>2500.000000</td>\n",
       "      <td>2500.000000</td>\n",
       "      <td>2500.000000</td>\n",
       "      <td>2500.000000</td>\n",
       "      <td>1142.000000</td>\n",
       "      <td>2497.000000</td>\n",
       "      <td>...</td>\n",
       "      <td>2500.000000</td>\n",
       "      <td>2500.000000</td>\n",
       "      <td>1987.000000</td>\n",
       "      <td>2500.000000</td>\n",
       "      <td>2500.000000</td>\n",
       "      <td>2500.000000</td>\n",
       "      <td>2500.000000</td>\n",
       "      <td>2500.000000</td>\n",
       "      <td>2500.000000</td>\n",
       "      <td>2500.000000</td>\n",
       "    </tr>\n",
       "    <tr>\n",
       "      <th>mean</th>\n",
       "      <td>0.492800</td>\n",
       "      <td>1.366922e+06</td>\n",
       "      <td>0.965600</td>\n",
       "      <td>0.004800</td>\n",
       "      <td>11.184400</td>\n",
       "      <td>0.656400</td>\n",
       "      <td>77.351626</td>\n",
       "      <td>0.017200</td>\n",
       "      <td>34.181261</td>\n",
       "      <td>0.106928</td>\n",
       "      <td>...</td>\n",
       "      <td>212.588524</td>\n",
       "      <td>18271.340000</td>\n",
       "      <td>1234.516860</td>\n",
       "      <td>0.983200</td>\n",
       "      <td>0.014000</td>\n",
       "      <td>0.002800</td>\n",
       "      <td>0.004000</td>\n",
       "      <td>0.982800</td>\n",
       "      <td>0.013200</td>\n",
       "      <td>0.118800</td>\n",
       "    </tr>\n",
       "    <tr>\n",
       "      <th>std</th>\n",
       "      <td>0.500048</td>\n",
       "      <td>9.171252e+05</td>\n",
       "      <td>0.182291</td>\n",
       "      <td>0.079872</td>\n",
       "      <td>4.852774</td>\n",
       "      <td>0.475005</td>\n",
       "      <td>16.847585</td>\n",
       "      <td>0.130042</td>\n",
       "      <td>22.024277</td>\n",
       "      <td>0.357189</td>\n",
       "      <td>...</td>\n",
       "      <td>75.355344</td>\n",
       "      <td>11543.881469</td>\n",
       "      <td>1740.219442</td>\n",
       "      <td>0.128547</td>\n",
       "      <td>0.117514</td>\n",
       "      <td>0.052851</td>\n",
       "      <td>0.063132</td>\n",
       "      <td>0.130042</td>\n",
       "      <td>0.114153</td>\n",
       "      <td>0.323618</td>\n",
       "    </tr>\n",
       "    <tr>\n",
       "      <th>min</th>\n",
       "      <td>0.000000</td>\n",
       "      <td>1.065330e+05</td>\n",
       "      <td>0.000000</td>\n",
       "      <td>0.000000</td>\n",
       "      <td>1.000000</td>\n",
       "      <td>0.000000</td>\n",
       "      <td>0.000000</td>\n",
       "      <td>0.000000</td>\n",
       "      <td>0.000000</td>\n",
       "      <td>0.000000</td>\n",
       "      <td>...</td>\n",
       "      <td>0.000000</td>\n",
       "      <td>93.000000</td>\n",
       "      <td>585.000000</td>\n",
       "      <td>0.000000</td>\n",
       "      <td>0.000000</td>\n",
       "      <td>0.000000</td>\n",
       "      <td>0.000000</td>\n",
       "      <td>0.000000</td>\n",
       "      <td>0.000000</td>\n",
       "      <td>0.000000</td>\n",
       "    </tr>\n",
       "    <tr>\n",
       "      <th>25%</th>\n",
       "      <td>0.000000</td>\n",
       "      <td>8.523115e+05</td>\n",
       "      <td>1.000000</td>\n",
       "      <td>0.000000</td>\n",
       "      <td>8.000000</td>\n",
       "      <td>0.000000</td>\n",
       "      <td>67.420887</td>\n",
       "      <td>0.000000</td>\n",
       "      <td>16.000000</td>\n",
       "      <td>0.000000</td>\n",
       "      <td>...</td>\n",
       "      <td>165.849967</td>\n",
       "      <td>10024.750000</td>\n",
       "      <td>710.000000</td>\n",
       "      <td>1.000000</td>\n",
       "      <td>0.000000</td>\n",
       "      <td>0.000000</td>\n",
       "      <td>0.000000</td>\n",
       "      <td>1.000000</td>\n",
       "      <td>0.000000</td>\n",
       "      <td>0.000000</td>\n",
       "    </tr>\n",
       "    <tr>\n",
       "      <th>50%</th>\n",
       "      <td>0.000000</td>\n",
       "      <td>1.178475e+06</td>\n",
       "      <td>1.000000</td>\n",
       "      <td>0.000000</td>\n",
       "      <td>10.000000</td>\n",
       "      <td>1.000000</td>\n",
       "      <td>76.541214</td>\n",
       "      <td>0.000000</td>\n",
       "      <td>30.000000</td>\n",
       "      <td>0.000000</td>\n",
       "      <td>...</td>\n",
       "      <td>207.919914</td>\n",
       "      <td>16642.500000</td>\n",
       "      <td>731.000000</td>\n",
       "      <td>1.000000</td>\n",
       "      <td>0.000000</td>\n",
       "      <td>0.000000</td>\n",
       "      <td>0.000000</td>\n",
       "      <td>1.000000</td>\n",
       "      <td>0.000000</td>\n",
       "      <td>0.000000</td>\n",
       "    </tr>\n",
       "    <tr>\n",
       "      <th>75%</th>\n",
       "      <td>1.000000</td>\n",
       "      <td>1.629734e+06</td>\n",
       "      <td>1.000000</td>\n",
       "      <td>0.000000</td>\n",
       "      <td>14.000000</td>\n",
       "      <td>1.000000</td>\n",
       "      <td>86.326107</td>\n",
       "      <td>0.000000</td>\n",
       "      <td>50.000000</td>\n",
       "      <td>0.000000</td>\n",
       "      <td>...</td>\n",
       "      <td>254.616172</td>\n",
       "      <td>24146.000000</td>\n",
       "      <td>743.000000</td>\n",
       "      <td>1.000000</td>\n",
       "      <td>0.000000</td>\n",
       "      <td>0.000000</td>\n",
       "      <td>0.000000</td>\n",
       "      <td>1.000000</td>\n",
       "      <td>0.000000</td>\n",
       "      <td>0.000000</td>\n",
       "    </tr>\n",
       "    <tr>\n",
       "      <th>max</th>\n",
       "      <td>1.000000</td>\n",
       "      <td>1.497561e+07</td>\n",
       "      <td>1.000000</td>\n",
       "      <td>2.000000</td>\n",
       "      <td>48.000000</td>\n",
       "      <td>1.000000</td>\n",
       "      <td>225.723919</td>\n",
       "      <td>1.000000</td>\n",
       "      <td>82.000000</td>\n",
       "      <td>5.000000</td>\n",
       "      <td>...</td>\n",
       "      <td>686.670844</td>\n",
       "      <td>93555.000000</td>\n",
       "      <td>7480.000000</td>\n",
       "      <td>1.000000</td>\n",
       "      <td>1.000000</td>\n",
       "      <td>1.000000</td>\n",
       "      <td>1.000000</td>\n",
       "      <td>1.000000</td>\n",
       "      <td>1.000000</td>\n",
       "      <td>1.000000</td>\n",
       "    </tr>\n",
       "  </tbody>\n",
       "</table>\n",
       "<p>8 rows × 22 columns</p>\n",
       "</div>"
      ],
      "text/plain": [
       "       Home Ownership  Annual Income  Years in current job    Tax Liens  \\\n",
       "count     2500.000000   1.987000e+03           2500.000000  2500.000000   \n",
       "mean         0.492800   1.366922e+06              0.965600     0.004800   \n",
       "std          0.500048   9.171252e+05              0.182291     0.079872   \n",
       "min          0.000000   1.065330e+05              0.000000     0.000000   \n",
       "25%          0.000000   8.523115e+05              1.000000     0.000000   \n",
       "50%          0.000000   1.178475e+06              1.000000     0.000000   \n",
       "75%          1.000000   1.629734e+06              1.000000     0.000000   \n",
       "max          1.000000   1.497561e+07              1.000000     2.000000   \n",
       "\n",
       "       Number of Open Accounts  Years of Credit History  Maximum Open Credit  \\\n",
       "count              2500.000000              2500.000000          2500.000000   \n",
       "mean                 11.184400                 0.656400            77.351626   \n",
       "std                   4.852774                 0.475005            16.847585   \n",
       "min                   1.000000                 0.000000             0.000000   \n",
       "25%                   8.000000                 0.000000            67.420887   \n",
       "50%                  10.000000                 1.000000            76.541214   \n",
       "75%                  14.000000                 1.000000            86.326107   \n",
       "max                  48.000000                 1.000000           225.723919   \n",
       "\n",
       "       Number of Credit Problems  Months since last delinquent  Bankruptcies  \\\n",
       "count                2500.000000                   1142.000000   2497.000000   \n",
       "mean                    0.017200                     34.181261      0.106928   \n",
       "std                     0.130042                     22.024277      0.357189   \n",
       "min                     0.000000                      0.000000      0.000000   \n",
       "25%                     0.000000                     16.000000      0.000000   \n",
       "50%                     0.000000                     30.000000      0.000000   \n",
       "75%                     0.000000                     50.000000      0.000000   \n",
       "max                     1.000000                     82.000000      5.000000   \n",
       "\n",
       "       ...  Current Credit Balance  Monthly Debt  Credit Score    Purpose_0  \\\n",
       "count  ...             2500.000000   2500.000000   1987.000000  2500.000000   \n",
       "mean   ...              212.588524  18271.340000   1234.516860     0.983200   \n",
       "std    ...               75.355344  11543.881469   1740.219442     0.128547   \n",
       "min    ...                0.000000     93.000000    585.000000     0.000000   \n",
       "25%    ...              165.849967  10024.750000    710.000000     1.000000   \n",
       "50%    ...              207.919914  16642.500000    731.000000     1.000000   \n",
       "75%    ...              254.616172  24146.000000    743.000000     1.000000   \n",
       "max    ...              686.670844  93555.000000   7480.000000     1.000000   \n",
       "\n",
       "         Purpose_1    Purpose_2  tax_problems_0  tax_problems_1  \\\n",
       "count  2500.000000  2500.000000     2500.000000     2500.000000   \n",
       "mean      0.014000     0.002800        0.004000        0.982800   \n",
       "std       0.117514     0.052851        0.063132        0.130042   \n",
       "min       0.000000     0.000000        0.000000        0.000000   \n",
       "25%       0.000000     0.000000        0.000000        1.000000   \n",
       "50%       0.000000     0.000000        0.000000        1.000000   \n",
       "75%       0.000000     0.000000        0.000000        1.000000   \n",
       "max       1.000000     1.000000        1.000000        1.000000   \n",
       "\n",
       "       tax_problems_2  Current Loan Max  \n",
       "count     2500.000000       2500.000000  \n",
       "mean         0.013200          0.118800  \n",
       "std          0.114153          0.323618  \n",
       "min          0.000000          0.000000  \n",
       "25%          0.000000          0.000000  \n",
       "50%          0.000000          0.000000  \n",
       "75%          0.000000          0.000000  \n",
       "max          1.000000          1.000000  \n",
       "\n",
       "[8 rows x 22 columns]"
      ]
     },
     "execution_count": 39,
     "metadata": {},
     "output_type": "execute_result"
    }
   ],
   "source": [
    "df.describe()"
   ]
  },
  {
   "cell_type": "markdown",
   "metadata": {},
   "source": [
    "### Number of Open Accounts"
   ]
  },
  {
   "cell_type": "code",
   "execution_count": 40,
   "metadata": {},
   "outputs": [
    {
     "data": {
      "text/plain": [
       "<matplotlib.axes._subplots.AxesSubplot at 0x1263a9e20>"
      ]
     },
     "execution_count": 40,
     "metadata": {},
     "output_type": "execute_result"
    },
    {
     "data": {
      "image/png": "[encoded data removed]",
      "text/plain": [
       "<Figure size 432x288 with 1 Axes>"
      ]
     },
     "metadata": {
      "needs_background": "light"
     },
     "output_type": "display_data"
    }
   ],
   "source": [
    "sns.boxplot(df['Number of Open Accounts'])"
   ]
  },
  {
   "cell_type": "code",
   "execution_count": 41,
   "metadata": {},
   "outputs": [
    {
     "data": {
      "text/plain": [
       "10.0"
      ]
     },
     "execution_count": 41,
     "metadata": {},
     "output_type": "execute_result"
    }
   ],
   "source": [
    "mdn = df['Number of Open Accounts'].median()\n",
    "mdn"
   ]
  },
  {
   "cell_type": "code",
   "execution_count": 42,
   "metadata": {},
   "outputs": [],
   "source": [
    "df['Number of Open Accounts'] = df['Number of Open Accounts'].apply(lambda x: 10 if x > 25 else x)"
   ]
  },
  {
   "cell_type": "code",
   "execution_count": 43,
   "metadata": {},
   "outputs": [
    {
     "data": {
      "text/plain": [
       "<matplotlib.axes._subplots.AxesSubplot at 0x12640eca0>"
      ]
     },
     "execution_count": 43,
     "metadata": {},
     "output_type": "execute_result"
    },
    {
     "data": {
      "image/png": "[encoded data removed]",
      "text/plain": [
       "<Figure size 432x288 with 1 Axes>"
      ]
     },
     "metadata": {
      "needs_background": "light"
     },
     "output_type": "display_data"
    }
   ],
   "source": [
    "sns.boxplot(sp.stats.yeojohnson(df['Number of Open Accounts'], lambdas['number_accounts_lambda']))"
   ]
  },
  {
   "cell_type": "code",
   "execution_count": 44,
   "metadata": {},
   "outputs": [],
   "source": [
    "df['Number of Open Accounts'] = sp.stats.yeojohnson(df['Number of Open Accounts'], lambdas['number_accounts_lambda'])"
   ]
  },
  {
   "cell_type": "markdown",
   "metadata": {},
   "source": [
    "### Monthly Debt"
   ]
  },
  {
   "cell_type": "code",
   "execution_count": 45,
   "metadata": {},
   "outputs": [
    {
     "data": {
      "text/plain": [
       "<matplotlib.axes._subplots.AxesSubplot at 0x125fcf8e0>"
      ]
     },
     "execution_count": 45,
     "metadata": {},
     "output_type": "execute_result"
    },
    {
     "data": {
      "image/png": "[encoded data removed]",
      "text/plain": [
       "<Figure size 432x288 with 1 Axes>"
      ]
     },
     "metadata": {
      "needs_background": "light"
     },
     "output_type": "display_data"
    }
   ],
   "source": [
    "sns.boxplot(sp.stats.yeojohnson(df['Monthly Debt'], lambdas['month_dept_lambda']))"
   ]
  },
  {
   "cell_type": "code",
   "execution_count": 46,
   "metadata": {},
   "outputs": [],
   "source": [
    "df['Monthly Debt'] = sp.stats.yeojohnson(df['Monthly Debt'], lambdas['month_dept_lambda'])"
   ]
  },
  {
   "cell_type": "markdown",
   "metadata": {},
   "source": [
    "### Annual Income"
   ]
  },
  {
   "cell_type": "code",
   "execution_count": 47,
   "metadata": {},
   "outputs": [
    {
     "data": {
      "text/plain": [
       "<matplotlib.axes._subplots.AxesSubplot at 0x12603b430>"
      ]
     },
     "execution_count": 47,
     "metadata": {},
     "output_type": "execute_result"
    },
    {
     "data": {
      "image/png": "[encoded data removed]",
      "text/plain": [
       "<Figure size 432x288 with 1 Axes>"
      ]
     },
     "metadata": {
      "needs_background": "light"
     },
     "output_type": "display_data"
    }
   ],
   "source": [
    "sns.boxplot(df['Annual Income'])"
   ]
  },
  {
   "cell_type": "code",
   "execution_count": 48,
   "metadata": {},
   "outputs": [],
   "source": [
    "df_with_income = df.loc[(df['Annual Income'] >= 0)]"
   ]
  },
  {
   "cell_type": "code",
   "execution_count": 49,
   "metadata": {},
   "outputs": [],
   "source": [
    "quant25, quant75 = np.quantile(df_with_income['Annual Income'], [.25, .75])\n",
    "iqr = sp.stats.iqr(df_with_income['Annual Income'])"
   ]
  },
  {
   "cell_type": "code",
   "execution_count": 50,
   "metadata": {},
   "outputs": [],
   "source": [
    "df_with_income = df_with_income.loc[(df_with_income['Annual Income'] > quant25-3*iqr) &\n",
    "                                           (df_with_income['Annual Income'] < quant75+3*iqr)]"
   ]
  },
  {
   "cell_type": "code",
   "execution_count": 51,
   "metadata": {},
   "outputs": [],
   "source": [
    "df1 = deepcopy(df)"
   ]
  },
  {
   "cell_type": "code",
   "execution_count": 52,
   "metadata": {},
   "outputs": [],
   "source": [
    "df1 = df1[CAT_FEATURES+['Maximum Open Credit', 'Number of Open Accounts',\n",
    "                        'Current Loan Amount', 'Current Credit Balance', 'Monthly Debt', 'Annual Income']]"
   ]
  },
  {
   "cell_type": "code",
   "execution_count": 53,
   "metadata": {},
   "outputs": [
    {
     "data": {
      "text/html": [
       "<div>\n",
       "<style scoped>\n",
       "    .dataframe tbody tr th:only-of-type {\n",
       "        vertical-align: middle;\n",
       "    }\n",
       "\n",
       "    .dataframe tbody tr th {\n",
       "        vertical-align: top;\n",
       "    }\n",
       "\n",
       "    .dataframe thead th {\n",
       "        text-align: right;\n",
       "    }\n",
       "</style>\n",
       "<table border=\"1\" class=\"dataframe\">\n",
       "  <thead>\n",
       "    <tr style=\"text-align: right;\">\n",
       "      <th></th>\n",
       "      <th>Years in current job</th>\n",
       "      <th>Home Ownership</th>\n",
       "      <th>Term</th>\n",
       "      <th>Years of Credit History</th>\n",
       "      <th>Purpose_0</th>\n",
       "      <th>Purpose_1</th>\n",
       "      <th>Purpose_2</th>\n",
       "      <th>tax_problems_0</th>\n",
       "      <th>tax_problems_1</th>\n",
       "      <th>tax_problems_2</th>\n",
       "      <th>Current Loan Max</th>\n",
       "      <th>Maximum Open Credit</th>\n",
       "      <th>Number of Open Accounts</th>\n",
       "      <th>Current Loan Amount</th>\n",
       "      <th>Current Credit Balance</th>\n",
       "      <th>Monthly Debt</th>\n",
       "      <th>Annual Income</th>\n",
       "    </tr>\n",
       "  </thead>\n",
       "  <tbody>\n",
       "    <tr>\n",
       "      <th>count</th>\n",
       "      <td>2500.000000</td>\n",
       "      <td>2500.000000</td>\n",
       "      <td>2500.000000</td>\n",
       "      <td>2500.000000</td>\n",
       "      <td>2500.000000</td>\n",
       "      <td>2500.000000</td>\n",
       "      <td>2500.000000</td>\n",
       "      <td>2500.000000</td>\n",
       "      <td>2500.000000</td>\n",
       "      <td>2500.000000</td>\n",
       "      <td>2500.000000</td>\n",
       "      <td>2500.000000</td>\n",
       "      <td>2500.000000</td>\n",
       "      <td>2500.000000</td>\n",
       "      <td>2500.000000</td>\n",
       "      <td>2500.000000</td>\n",
       "      <td>1.987000e+03</td>\n",
       "    </tr>\n",
       "    <tr>\n",
       "      <th>mean</th>\n",
       "      <td>0.965600</td>\n",
       "      <td>0.492800</td>\n",
       "      <td>0.255600</td>\n",
       "      <td>0.656400</td>\n",
       "      <td>0.983200</td>\n",
       "      <td>0.014000</td>\n",
       "      <td>0.002800</td>\n",
       "      <td>0.004000</td>\n",
       "      <td>0.982800</td>\n",
       "      <td>0.013200</td>\n",
       "      <td>0.118800</td>\n",
       "      <td>77.351626</td>\n",
       "      <td>3.106797</td>\n",
       "      <td>254.958720</td>\n",
       "      <td>212.588524</td>\n",
       "      <td>157.270117</td>\n",
       "      <td>1.366922e+06</td>\n",
       "    </tr>\n",
       "    <tr>\n",
       "      <th>std</th>\n",
       "      <td>0.182291</td>\n",
       "      <td>0.500048</td>\n",
       "      <td>0.436285</td>\n",
       "      <td>0.475005</td>\n",
       "      <td>0.128547</td>\n",
       "      <td>0.117514</td>\n",
       "      <td>0.052851</td>\n",
       "      <td>0.063132</td>\n",
       "      <td>0.130042</td>\n",
       "      <td>0.114153</td>\n",
       "      <td>0.323618</td>\n",
       "      <td>16.847585</td>\n",
       "      <td>0.606154</td>\n",
       "      <td>56.011899</td>\n",
       "      <td>75.355344</td>\n",
       "      <td>47.018514</td>\n",
       "      <td>9.171252e+05</td>\n",
       "    </tr>\n",
       "    <tr>\n",
       "      <th>min</th>\n",
       "      <td>0.000000</td>\n",
       "      <td>0.000000</td>\n",
       "      <td>0.000000</td>\n",
       "      <td>0.000000</td>\n",
       "      <td>0.000000</td>\n",
       "      <td>0.000000</td>\n",
       "      <td>0.000000</td>\n",
       "      <td>0.000000</td>\n",
       "      <td>0.000000</td>\n",
       "      <td>0.000000</td>\n",
       "      <td>0.000000</td>\n",
       "      <td>0.000000</td>\n",
       "      <td>0.742567</td>\n",
       "      <td>87.952715</td>\n",
       "      <td>0.000000</td>\n",
       "      <td>14.423099</td>\n",
       "      <td>1.065330e+05</td>\n",
       "    </tr>\n",
       "    <tr>\n",
       "      <th>25%</th>\n",
       "      <td>1.000000</td>\n",
       "      <td>0.000000</td>\n",
       "      <td>0.000000</td>\n",
       "      <td>0.000000</td>\n",
       "      <td>1.000000</td>\n",
       "      <td>0.000000</td>\n",
       "      <td>0.000000</td>\n",
       "      <td>0.000000</td>\n",
       "      <td>1.000000</td>\n",
       "      <td>0.000000</td>\n",
       "      <td>0.000000</td>\n",
       "      <td>67.420887</td>\n",
       "      <td>2.747838</td>\n",
       "      <td>221.198228</td>\n",
       "      <td>165.849967</td>\n",
       "      <td>126.941547</td>\n",
       "      <td>8.523115e+05</td>\n",
       "    </tr>\n",
       "    <tr>\n",
       "      <th>50%</th>\n",
       "      <td>1.000000</td>\n",
       "      <td>0.000000</td>\n",
       "      <td>0.000000</td>\n",
       "      <td>1.000000</td>\n",
       "      <td>1.000000</td>\n",
       "      <td>0.000000</td>\n",
       "      <td>0.000000</td>\n",
       "      <td>0.000000</td>\n",
       "      <td>1.000000</td>\n",
       "      <td>0.000000</td>\n",
       "      <td>0.000000</td>\n",
       "      <td>76.541214</td>\n",
       "      <td>3.063028</td>\n",
       "      <td>251.165905</td>\n",
       "      <td>207.919914</td>\n",
       "      <td>159.072850</td>\n",
       "      <td>1.178475e+06</td>\n",
       "    </tr>\n",
       "    <tr>\n",
       "      <th>75%</th>\n",
       "      <td>1.000000</td>\n",
       "      <td>1.000000</td>\n",
       "      <td>1.000000</td>\n",
       "      <td>1.000000</td>\n",
       "      <td>1.000000</td>\n",
       "      <td>0.000000</td>\n",
       "      <td>0.000000</td>\n",
       "      <td>0.000000</td>\n",
       "      <td>1.000000</td>\n",
       "      <td>0.000000</td>\n",
       "      <td>0.000000</td>\n",
       "      <td>86.326107</td>\n",
       "      <td>3.487800</td>\n",
       "      <td>291.813659</td>\n",
       "      <td>254.616172</td>\n",
       "      <td>187.645910</td>\n",
       "      <td>1.629734e+06</td>\n",
       "    </tr>\n",
       "    <tr>\n",
       "      <th>max</th>\n",
       "      <td>1.000000</td>\n",
       "      <td>1.000000</td>\n",
       "      <td>1.000000</td>\n",
       "      <td>1.000000</td>\n",
       "      <td>1.000000</td>\n",
       "      <td>1.000000</td>\n",
       "      <td>1.000000</td>\n",
       "      <td>1.000000</td>\n",
       "      <td>1.000000</td>\n",
       "      <td>1.000000</td>\n",
       "      <td>1.000000</td>\n",
       "      <td>225.723919</td>\n",
       "      <td>4.564237</td>\n",
       "      <td>374.353278</td>\n",
       "      <td>686.670844</td>\n",
       "      <td>341.504506</td>\n",
       "      <td>1.497561e+07</td>\n",
       "    </tr>\n",
       "  </tbody>\n",
       "</table>\n",
       "</div>"
      ],
      "text/plain": [
       "       Years in current job  Home Ownership         Term  \\\n",
       "count           2500.000000     2500.000000  2500.000000   \n",
       "mean               0.965600        0.492800     0.255600   \n",
       "std                0.182291        0.500048     0.436285   \n",
       "min                0.000000        0.000000     0.000000   \n",
       "25%                1.000000        0.000000     0.000000   \n",
       "50%                1.000000        0.000000     0.000000   \n",
       "75%                1.000000        1.000000     1.000000   \n",
       "max                1.000000        1.000000     1.000000   \n",
       "\n",
       "       Years of Credit History    Purpose_0    Purpose_1    Purpose_2  \\\n",
       "count              2500.000000  2500.000000  2500.000000  2500.000000   \n",
       "mean                  0.656400     0.983200     0.014000     0.002800   \n",
       "std                   0.475005     0.128547     0.117514     0.052851   \n",
       "min                   0.000000     0.000000     0.000000     0.000000   \n",
       "25%                   0.000000     1.000000     0.000000     0.000000   \n",
       "50%                   1.000000     1.000000     0.000000     0.000000   \n",
       "75%                   1.000000     1.000000     0.000000     0.000000   \n",
       "max                   1.000000     1.000000     1.000000     1.000000   \n",
       "\n",
       "       tax_problems_0  tax_problems_1  tax_problems_2  Current Loan Max  \\\n",
       "count     2500.000000     2500.000000     2500.000000       2500.000000   \n",
       "mean         0.004000        0.982800        0.013200          0.118800   \n",
       "std          0.063132        0.130042        0.114153          0.323618   \n",
       "min          0.000000        0.000000        0.000000          0.000000   \n",
       "25%          0.000000        1.000000        0.000000          0.000000   \n",
       "50%          0.000000        1.000000        0.000000          0.000000   \n",
       "75%          0.000000        1.000000        0.000000          0.000000   \n",
       "max          1.000000        1.000000        1.000000          1.000000   \n",
       "\n",
       "       Maximum Open Credit  Number of Open Accounts  Current Loan Amount  \\\n",
       "count          2500.000000              2500.000000          2500.000000   \n",
       "mean             77.351626                 3.106797           254.958720   \n",
       "std              16.847585                 0.606154            56.011899   \n",
       "min               0.000000                 0.742567            87.952715   \n",
       "25%              67.420887                 2.747838           221.198228   \n",
       "50%              76.541214                 3.063028           251.165905   \n",
       "75%              86.326107                 3.487800           291.813659   \n",
       "max             225.723919                 4.564237           374.353278   \n",
       "\n",
       "       Current Credit Balance  Monthly Debt  Annual Income  \n",
       "count             2500.000000   2500.000000   1.987000e+03  \n",
       "mean               212.588524    157.270117   1.366922e+06  \n",
       "std                 75.355344     47.018514   9.171252e+05  \n",
       "min                  0.000000     14.423099   1.065330e+05  \n",
       "25%                165.849967    126.941547   8.523115e+05  \n",
       "50%                207.919914    159.072850   1.178475e+06  \n",
       "75%                254.616172    187.645910   1.629734e+06  \n",
       "max                686.670844    341.504506   1.497561e+07  "
      ]
     },
     "execution_count": 53,
     "metadata": {},
     "output_type": "execute_result"
    }
   ],
   "source": [
    "df1.describe()"
   ]
  },
  {
   "cell_type": "code",
   "execution_count": 54,
   "metadata": {},
   "outputs": [],
   "source": [
    "df1.loc[df_with_income.index, 'Annual Income'] = df_with_income['Annual Income']"
   ]
  },
  {
   "cell_type": "code",
   "execution_count": 55,
   "metadata": {},
   "outputs": [],
   "source": [
    "df_income_res = df1.loc[pd.isnull(df1['Annual Income'])]"
   ]
  },
  {
   "cell_type": "code",
   "execution_count": 56,
   "metadata": {},
   "outputs": [],
   "source": [
    "NUM_FEAT = ['Maximum Open Credit', 'Number of Open Accounts',\n",
    "                        'Current Loan Amount', 'Current Credit Balance', 'Monthly Debt']"
   ]
  },
  {
   "cell_type": "code",
   "execution_count": 57,
   "metadata": {},
   "outputs": [],
   "source": [
    "with open('annual_scaler.bin', 'rb') as f:\n",
    "    scaler = pickle.load(f)"
   ]
  },
  {
   "cell_type": "code",
   "execution_count": 58,
   "metadata": {},
   "outputs": [
    {
     "name": "stderr",
     "output_type": "stream",
     "text": [
      "<ipython-input-58-7639fb00f29e>:1: SettingWithCopyWarning: \n",
      "A value is trying to be set on a copy of a slice from a DataFrame.\n",
      "Try using .loc[row_indexer,col_indexer] = value instead\n",
      "\n",
      "See the caveats in the documentation: https://pandas.pydata.org/pandas-docs/stable/user_guide/indexing.html#returning-a-view-versus-a-copy\n",
      "  df_income_res[NUM_FEAT] = scaler.transform(df_income_res[NUM_FEAT])\n",
      "/Users/kosmosivanov/git-repo/Python_DS_more/virt_env/lib/python3.8/site-packages/pandas/core/indexing.py:965: SettingWithCopyWarning: \n",
      "A value is trying to be set on a copy of a slice from a DataFrame.\n",
      "Try using .loc[row_indexer,col_indexer] = value instead\n",
      "\n",
      "See the caveats in the documentation: https://pandas.pydata.org/pandas-docs/stable/user_guide/indexing.html#returning-a-view-versus-a-copy\n",
      "  self.obj[item] = s\n"
     ]
    }
   ],
   "source": [
    "df_income_res[NUM_FEAT] = scaler.transform(df_income_res[NUM_FEAT])"
   ]
  },
  {
   "cell_type": "code",
   "execution_count": 59,
   "metadata": {},
   "outputs": [],
   "source": [
    "with open('annual_regressor.bin', 'rb') as f:\n",
    "    regressor = pickle.load(f)"
   ]
  },
  {
   "cell_type": "code",
   "execution_count": 60,
   "metadata": {},
   "outputs": [
    {
     "data": {
      "text/plain": [
       "['Years in current job',\n",
       " 'Home Ownership',\n",
       " 'Term',\n",
       " 'Years of Credit History',\n",
       " 'Purpose_0',\n",
       " 'Purpose_1',\n",
       " 'Purpose_2',\n",
       " 'tax_problems_0',\n",
       " 'tax_problems_1',\n",
       " 'tax_problems_2',\n",
       " 'Current Loan Max',\n",
       " 'Maximum Open Credit',\n",
       " 'Number of Open Accounts',\n",
       " 'Current Loan Amount',\n",
       " 'Current Credit Balance',\n",
       " 'Monthly Debt']"
      ]
     },
     "execution_count": 60,
     "metadata": {},
     "output_type": "execute_result"
    }
   ],
   "source": [
    "FEATURES = CAT_FEATURES + NUM_FEAT\n",
    "FEATURES"
   ]
  },
  {
   "cell_type": "code",
   "execution_count": 61,
   "metadata": {},
   "outputs": [
    {
     "name": "stderr",
     "output_type": "stream",
     "text": [
      "<ipython-input-61-44489f7aa765>:1: SettingWithCopyWarning: \n",
      "A value is trying to be set on a copy of a slice from a DataFrame.\n",
      "Try using .loc[row_indexer,col_indexer] = value instead\n",
      "\n",
      "See the caveats in the documentation: https://pandas.pydata.org/pandas-docs/stable/user_guide/indexing.html#returning-a-view-versus-a-copy\n",
      "  df_income_res['Annual Income'] = regressor.predict(df_income_res.loc[:, FEATURES])\n"
     ]
    },
    {
     "data": {
      "text/plain": [
       "count    5.130000e+02\n",
       "mean     1.351813e+06\n",
       "std      5.005397e+05\n",
       "min      6.332050e+05\n",
       "25%      1.002015e+06\n",
       "50%      1.233636e+06\n",
       "75%      1.573406e+06\n",
       "max      4.167369e+06\n",
       "Name: Annual Income, dtype: float64"
      ]
     },
     "execution_count": 61,
     "metadata": {},
     "output_type": "execute_result"
    }
   ],
   "source": [
    "df_income_res['Annual Income'] = regressor.predict(df_income_res.loc[:, FEATURES])\n",
    "df_income_res['Annual Income'].describe()"
   ]
  },
  {
   "cell_type": "code",
   "execution_count": 62,
   "metadata": {},
   "outputs": [],
   "source": [
    "df.loc[df_income_res.index, 'Annual Income'] = df_income_res['Annual Income']"
   ]
  },
  {
   "cell_type": "code",
   "execution_count": 63,
   "metadata": {},
   "outputs": [
    {
     "name": "stdout",
     "output_type": "stream",
     "text": [
      "<class 'pandas.core.frame.DataFrame'>\n",
      "RangeIndex: 2500 entries, 0 to 2499\n",
      "Data columns (total 22 columns):\n",
      " #   Column                        Non-Null Count  Dtype  \n",
      "---  ------                        --------------  -----  \n",
      " 0   Home Ownership                2500 non-null   uint8  \n",
      " 1   Annual Income                 2500 non-null   float64\n",
      " 2   Years in current job          2500 non-null   uint8  \n",
      " 3   Tax Liens                     2500 non-null   int64  \n",
      " 4   Number of Open Accounts       2500 non-null   float64\n",
      " 5   Years of Credit History       2500 non-null   uint8  \n",
      " 6   Maximum Open Credit           2500 non-null   float64\n",
      " 7   Number of Credit Problems     2500 non-null   int64  \n",
      " 8   Months since last delinquent  1142 non-null   float64\n",
      " 9   Bankruptcies                  2497 non-null   float64\n",
      " 10  Term                          2500 non-null   uint8  \n",
      " 11  Current Loan Amount           2500 non-null   float64\n",
      " 12  Current Credit Balance        2500 non-null   float64\n",
      " 13  Monthly Debt                  2500 non-null   float64\n",
      " 14  Credit Score                  1987 non-null   float64\n",
      " 15  Purpose_0                     2500 non-null   uint8  \n",
      " 16  Purpose_1                     2500 non-null   uint8  \n",
      " 17  Purpose_2                     2500 non-null   uint8  \n",
      " 18  tax_problems_0                2500 non-null   uint8  \n",
      " 19  tax_problems_1                2500 non-null   uint8  \n",
      " 20  tax_problems_2                2500 non-null   uint8  \n",
      " 21  Current Loan Max              2500 non-null   int64  \n",
      "dtypes: float64(9), int64(3), uint8(10)\n",
      "memory usage: 258.9 KB\n"
     ]
    }
   ],
   "source": [
    "df.info()"
   ]
  },
  {
   "cell_type": "markdown",
   "metadata": {},
   "source": [
    "### Credit Score"
   ]
  },
  {
   "cell_type": "code",
   "execution_count": 64,
   "metadata": {},
   "outputs": [],
   "source": [
    "df['Credit Score Max'] = df['Credit Score'] >= 6000\n",
    "df['Credit Score Max'] = df['Credit Score Max'].apply(lambda x: 1 if x else 0)"
   ]
  },
  {
   "cell_type": "code",
   "execution_count": 65,
   "metadata": {},
   "outputs": [],
   "source": [
    "df['Credit Score'] = df['Credit Score'].apply(lambda x: 730 if x >= 6000 else x)"
   ]
  },
  {
   "cell_type": "code",
   "execution_count": 66,
   "metadata": {},
   "outputs": [],
   "source": [
    "df1 = deepcopy(df)"
   ]
  },
  {
   "cell_type": "code",
   "execution_count": 67,
   "metadata": {},
   "outputs": [],
   "source": [
    "df1 = df1[['Years in current job', 'Home Ownership', 'Term', 'Years of Credit History', 'Purpose_0',\n",
    " 'Purpose_1', 'Purpose_2', 'tax_problems_0', 'tax_problems_1', 'tax_problems_2',\n",
    " 'Current Loan Max',]+['Maximum Open Credit', 'Number of Open Accounts',\n",
    "                        'Current Loan Amount', 'Current Credit Balance', 'Monthly Debt', 'Annual Income', 'Credit Score']]"
   ]
  },
  {
   "cell_type": "code",
   "execution_count": 68,
   "metadata": {},
   "outputs": [],
   "source": [
    "df_score_res = df1.loc[df1['Credit Score']>0]"
   ]
  },
  {
   "cell_type": "code",
   "execution_count": 69,
   "metadata": {},
   "outputs": [],
   "source": [
    "with open('score_scaler.bin', 'rb') as f:\n",
    "    scaler = pickle.load(f)"
   ]
  },
  {
   "cell_type": "code",
   "execution_count": 70,
   "metadata": {},
   "outputs": [
    {
     "data": {
      "text/html": [
       "<div>\n",
       "<style scoped>\n",
       "    .dataframe tbody tr th:only-of-type {\n",
       "        vertical-align: middle;\n",
       "    }\n",
       "\n",
       "    .dataframe tbody tr th {\n",
       "        vertical-align: top;\n",
       "    }\n",
       "\n",
       "    .dataframe thead th {\n",
       "        text-align: right;\n",
       "    }\n",
       "</style>\n",
       "<table border=\"1\" class=\"dataframe\">\n",
       "  <thead>\n",
       "    <tr style=\"text-align: right;\">\n",
       "      <th></th>\n",
       "      <th>Years in current job</th>\n",
       "      <th>Home Ownership</th>\n",
       "      <th>Term</th>\n",
       "      <th>Years of Credit History</th>\n",
       "      <th>Purpose_0</th>\n",
       "      <th>Purpose_1</th>\n",
       "      <th>Purpose_2</th>\n",
       "      <th>tax_problems_0</th>\n",
       "      <th>tax_problems_1</th>\n",
       "      <th>tax_problems_2</th>\n",
       "      <th>Current Loan Max</th>\n",
       "      <th>Maximum Open Credit</th>\n",
       "      <th>Number of Open Accounts</th>\n",
       "      <th>Current Loan Amount</th>\n",
       "      <th>Current Credit Balance</th>\n",
       "      <th>Monthly Debt</th>\n",
       "      <th>Annual Income</th>\n",
       "      <th>Credit Score</th>\n",
       "    </tr>\n",
       "  </thead>\n",
       "  <tbody>\n",
       "    <tr>\n",
       "      <th>1</th>\n",
       "      <td>1</td>\n",
       "      <td>0</td>\n",
       "      <td>0</td>\n",
       "      <td>0</td>\n",
       "      <td>0</td>\n",
       "      <td>0</td>\n",
       "      <td>1</td>\n",
       "      <td>0</td>\n",
       "      <td>1</td>\n",
       "      <td>0</td>\n",
       "      <td>0</td>\n",
       "      <td>45.973165</td>\n",
       "      <td>2.370234</td>\n",
       "      <td>160.604532</td>\n",
       "      <td>121.291269</td>\n",
       "      <td>65.760963</td>\n",
       "      <td>231838.0</td>\n",
       "      <td>699.0</td>\n",
       "    </tr>\n",
       "    <tr>\n",
       "      <th>2</th>\n",
       "      <td>1</td>\n",
       "      <td>1</td>\n",
       "      <td>0</td>\n",
       "      <td>1</td>\n",
       "      <td>1</td>\n",
       "      <td>0</td>\n",
       "      <td>0</td>\n",
       "      <td>0</td>\n",
       "      <td>1</td>\n",
       "      <td>0</td>\n",
       "      <td>0</td>\n",
       "      <td>62.687145</td>\n",
       "      <td>3.063028</td>\n",
       "      <td>226.732986</td>\n",
       "      <td>183.664570</td>\n",
       "      <td>167.641748</td>\n",
       "      <td>1152540.0</td>\n",
       "      <td>730.0</td>\n",
       "    </tr>\n",
       "    <tr>\n",
       "      <th>3</th>\n",
       "      <td>1</td>\n",
       "      <td>1</td>\n",
       "      <td>0</td>\n",
       "      <td>1</td>\n",
       "      <td>1</td>\n",
       "      <td>0</td>\n",
       "      <td>0</td>\n",
       "      <td>0</td>\n",
       "      <td>1</td>\n",
       "      <td>0</td>\n",
       "      <td>0</td>\n",
       "      <td>75.690085</td>\n",
       "      <td>3.791034</td>\n",
       "      <td>233.687584</td>\n",
       "      <td>209.979481</td>\n",
       "      <td>198.971455</td>\n",
       "      <td>1220313.0</td>\n",
       "      <td>739.0</td>\n",
       "    </tr>\n",
       "    <tr>\n",
       "      <th>4</th>\n",
       "      <td>1</td>\n",
       "      <td>1</td>\n",
       "      <td>1</td>\n",
       "      <td>0</td>\n",
       "      <td>1</td>\n",
       "      <td>0</td>\n",
       "      <td>0</td>\n",
       "      <td>0</td>\n",
       "      <td>1</td>\n",
       "      <td>0</td>\n",
       "      <td>0</td>\n",
       "      <td>94.883616</td>\n",
       "      <td>3.203605</td>\n",
       "      <td>372.360571</td>\n",
       "      <td>268.508632</td>\n",
       "      <td>241.291529</td>\n",
       "      <td>2340952.0</td>\n",
       "      <td>706.0</td>\n",
       "    </tr>\n",
       "    <tr>\n",
       "      <th>5</th>\n",
       "      <td>1</td>\n",
       "      <td>1</td>\n",
       "      <td>0</td>\n",
       "      <td>1</td>\n",
       "      <td>1</td>\n",
       "      <td>0</td>\n",
       "      <td>0</td>\n",
       "      <td>0</td>\n",
       "      <td>1</td>\n",
       "      <td>0</td>\n",
       "      <td>0</td>\n",
       "      <td>83.990341</td>\n",
       "      <td>3.063028</td>\n",
       "      <td>171.800601</td>\n",
       "      <td>178.622251</td>\n",
       "      <td>133.095638</td>\n",
       "      <td>922583.0</td>\n",
       "      <td>679.0</td>\n",
       "    </tr>\n",
       "    <tr>\n",
       "      <th>...</th>\n",
       "      <td>...</td>\n",
       "      <td>...</td>\n",
       "      <td>...</td>\n",
       "      <td>...</td>\n",
       "      <td>...</td>\n",
       "      <td>...</td>\n",
       "      <td>...</td>\n",
       "      <td>...</td>\n",
       "      <td>...</td>\n",
       "      <td>...</td>\n",
       "      <td>...</td>\n",
       "      <td>...</td>\n",
       "      <td>...</td>\n",
       "      <td>...</td>\n",
       "      <td>...</td>\n",
       "      <td>...</td>\n",
       "      <td>...</td>\n",
       "      <td>...</td>\n",
       "    </tr>\n",
       "    <tr>\n",
       "      <th>2494</th>\n",
       "      <td>1</td>\n",
       "      <td>1</td>\n",
       "      <td>1</td>\n",
       "      <td>1</td>\n",
       "      <td>1</td>\n",
       "      <td>0</td>\n",
       "      <td>0</td>\n",
       "      <td>0</td>\n",
       "      <td>1</td>\n",
       "      <td>0</td>\n",
       "      <td>0</td>\n",
       "      <td>74.990359</td>\n",
       "      <td>3.575301</td>\n",
       "      <td>283.560953</td>\n",
       "      <td>153.218544</td>\n",
       "      <td>168.074280</td>\n",
       "      <td>907839.0</td>\n",
       "      <td>705.0</td>\n",
       "    </tr>\n",
       "    <tr>\n",
       "      <th>2495</th>\n",
       "      <td>1</td>\n",
       "      <td>1</td>\n",
       "      <td>0</td>\n",
       "      <td>1</td>\n",
       "      <td>1</td>\n",
       "      <td>0</td>\n",
       "      <td>0</td>\n",
       "      <td>0</td>\n",
       "      <td>1</td>\n",
       "      <td>0</td>\n",
       "      <td>1</td>\n",
       "      <td>79.366974</td>\n",
       "      <td>3.575301</td>\n",
       "      <td>251.165905</td>\n",
       "      <td>190.692301</td>\n",
       "      <td>152.099439</td>\n",
       "      <td>1020053.0</td>\n",
       "      <td>745.0</td>\n",
       "    </tr>\n",
       "    <tr>\n",
       "      <th>2497</th>\n",
       "      <td>1</td>\n",
       "      <td>1</td>\n",
       "      <td>0</td>\n",
       "      <td>1</td>\n",
       "      <td>1</td>\n",
       "      <td>0</td>\n",
       "      <td>0</td>\n",
       "      <td>0</td>\n",
       "      <td>1</td>\n",
       "      <td>0</td>\n",
       "      <td>0</td>\n",
       "      <td>102.764996</td>\n",
       "      <td>3.063028</td>\n",
       "      <td>300.059417</td>\n",
       "      <td>316.591227</td>\n",
       "      <td>226.456668</td>\n",
       "      <td>1171806.0</td>\n",
       "      <td>695.0</td>\n",
       "    </tr>\n",
       "    <tr>\n",
       "      <th>2498</th>\n",
       "      <td>1</td>\n",
       "      <td>0</td>\n",
       "      <td>0</td>\n",
       "      <td>1</td>\n",
       "      <td>1</td>\n",
       "      <td>0</td>\n",
       "      <td>0</td>\n",
       "      <td>0</td>\n",
       "      <td>1</td>\n",
       "      <td>0</td>\n",
       "      <td>0</td>\n",
       "      <td>89.674623</td>\n",
       "      <td>3.575301</td>\n",
       "      <td>248.738395</td>\n",
       "      <td>260.639959</td>\n",
       "      <td>144.966754</td>\n",
       "      <td>723520.0</td>\n",
       "      <td>744.0</td>\n",
       "    </tr>\n",
       "    <tr>\n",
       "      <th>2499</th>\n",
       "      <td>1</td>\n",
       "      <td>0</td>\n",
       "      <td>1</td>\n",
       "      <td>1</td>\n",
       "      <td>1</td>\n",
       "      <td>0</td>\n",
       "      <td>0</td>\n",
       "      <td>0</td>\n",
       "      <td>1</td>\n",
       "      <td>0</td>\n",
       "      <td>0</td>\n",
       "      <td>94.746684</td>\n",
       "      <td>3.335064</td>\n",
       "      <td>369.789686</td>\n",
       "      <td>295.969608</td>\n",
       "      <td>185.192775</td>\n",
       "      <td>1694439.0</td>\n",
       "      <td>730.0</td>\n",
       "    </tr>\n",
       "  </tbody>\n",
       "</table>\n",
       "<p>1987 rows × 18 columns</p>\n",
       "</div>"
      ],
      "text/plain": [
       "      Years in current job  Home Ownership  Term  Years of Credit History  \\\n",
       "1                        1               0     0                        0   \n",
       "2                        1               1     0                        1   \n",
       "3                        1               1     0                        1   \n",
       "4                        1               1     1                        0   \n",
       "5                        1               1     0                        1   \n",
       "...                    ...             ...   ...                      ...   \n",
       "2494                     1               1     1                        1   \n",
       "2495                     1               1     0                        1   \n",
       "2497                     1               1     0                        1   \n",
       "2498                     1               0     0                        1   \n",
       "2499                     1               0     1                        1   \n",
       "\n",
       "      Purpose_0  Purpose_1  Purpose_2  tax_problems_0  tax_problems_1  \\\n",
       "1             0          0          1               0               1   \n",
       "2             1          0          0               0               1   \n",
       "3             1          0          0               0               1   \n",
       "4             1          0          0               0               1   \n",
       "5             1          0          0               0               1   \n",
       "...         ...        ...        ...             ...             ...   \n",
       "2494          1          0          0               0               1   \n",
       "2495          1          0          0               0               1   \n",
       "2497          1          0          0               0               1   \n",
       "2498          1          0          0               0               1   \n",
       "2499          1          0          0               0               1   \n",
       "\n",
       "      tax_problems_2  Current Loan Max  Maximum Open Credit  \\\n",
       "1                  0                 0            45.973165   \n",
       "2                  0                 0            62.687145   \n",
       "3                  0                 0            75.690085   \n",
       "4                  0                 0            94.883616   \n",
       "5                  0                 0            83.990341   \n",
       "...              ...               ...                  ...   \n",
       "2494               0                 0            74.990359   \n",
       "2495               0                 1            79.366974   \n",
       "2497               0                 0           102.764996   \n",
       "2498               0                 0            89.674623   \n",
       "2499               0                 0            94.746684   \n",
       "\n",
       "      Number of Open Accounts  Current Loan Amount  Current Credit Balance  \\\n",
       "1                    2.370234           160.604532              121.291269   \n",
       "2                    3.063028           226.732986              183.664570   \n",
       "3                    3.791034           233.687584              209.979481   \n",
       "4                    3.203605           372.360571              268.508632   \n",
       "5                    3.063028           171.800601              178.622251   \n",
       "...                       ...                  ...                     ...   \n",
       "2494                 3.575301           283.560953              153.218544   \n",
       "2495                 3.575301           251.165905              190.692301   \n",
       "2497                 3.063028           300.059417              316.591227   \n",
       "2498                 3.575301           248.738395              260.639959   \n",
       "2499                 3.335064           369.789686              295.969608   \n",
       "\n",
       "      Monthly Debt  Annual Income  Credit Score  \n",
       "1        65.760963       231838.0         699.0  \n",
       "2       167.641748      1152540.0         730.0  \n",
       "3       198.971455      1220313.0         739.0  \n",
       "4       241.291529      2340952.0         706.0  \n",
       "5       133.095638       922583.0         679.0  \n",
       "...            ...            ...           ...  \n",
       "2494    168.074280       907839.0         705.0  \n",
       "2495    152.099439      1020053.0         745.0  \n",
       "2497    226.456668      1171806.0         695.0  \n",
       "2498    144.966754       723520.0         744.0  \n",
       "2499    185.192775      1694439.0         730.0  \n",
       "\n",
       "[1987 rows x 18 columns]"
      ]
     },
     "execution_count": 70,
     "metadata": {},
     "output_type": "execute_result"
    }
   ],
   "source": [
    "df_score_res"
   ]
  },
  {
   "cell_type": "code",
   "execution_count": 71,
   "metadata": {},
   "outputs": [],
   "source": [
    "NUM_FEAT = ['Maximum Open Credit', 'Number of Open Accounts',\n",
    "            'Current Loan Amount', 'Current Credit Balance', 'Monthly Debt']"
   ]
  },
  {
   "cell_type": "code",
   "execution_count": 72,
   "metadata": {},
   "outputs": [
    {
     "name": "stderr",
     "output_type": "stream",
     "text": [
      "/Users/kosmosivanov/git-repo/Python_DS_more/virt_env/lib/python3.8/site-packages/pandas/core/indexing.py:965: SettingWithCopyWarning: \n",
      "A value is trying to be set on a copy of a slice from a DataFrame.\n",
      "Try using .loc[row_indexer,col_indexer] = value instead\n",
      "\n",
      "See the caveats in the documentation: https://pandas.pydata.org/pandas-docs/stable/user_guide/indexing.html#returning-a-view-versus-a-copy\n",
      "  self.obj[item] = s\n"
     ]
    }
   ],
   "source": [
    "df_score_res.loc[:, NUM_FEAT] = scaler.transform(df_score_res.loc[:, NUM_FEAT])"
   ]
  },
  {
   "cell_type": "code",
   "execution_count": 73,
   "metadata": {},
   "outputs": [],
   "source": [
    "with open('score_regressor.bin', 'rb') as f:\n",
    "    regressor = pickle.load(f)"
   ]
  },
  {
   "cell_type": "code",
   "execution_count": 74,
   "metadata": {},
   "outputs": [],
   "source": [
    "FEATURES = ['Years in current job', 'Home Ownership', 'Term', 'Years of Credit History', 'Purpose_0',\n",
    " 'Purpose_1', 'Purpose_2', 'tax_problems_0', 'tax_problems_1', 'tax_problems_2',\n",
    " 'Current Loan Max', 'Maximum Open Credit', 'Number of Open Accounts',\n",
    "                        'Current Loan Amount', 'Current Credit Balance', 'Monthly Debt']"
   ]
  },
  {
   "cell_type": "code",
   "execution_count": 75,
   "metadata": {},
   "outputs": [
    {
     "name": "stderr",
     "output_type": "stream",
     "text": [
      "/Users/kosmosivanov/git-repo/Python_DS_more/virt_env/lib/python3.8/site-packages/pandas/core/indexing.py:965: SettingWithCopyWarning: \n",
      "A value is trying to be set on a copy of a slice from a DataFrame.\n",
      "Try using .loc[row_indexer,col_indexer] = value instead\n",
      "\n",
      "See the caveats in the documentation: https://pandas.pydata.org/pandas-docs/stable/user_guide/indexing.html#returning-a-view-versus-a-copy\n",
      "  self.obj[item] = s\n"
     ]
    },
    {
     "data": {
      "text/plain": [
       "count    1987.000000\n",
       "mean      721.072202\n",
       "std        14.540089\n",
       "min       668.203685\n",
       "25%       712.959390\n",
       "50%       725.320640\n",
       "75%       730.913548\n",
       "max       746.224506\n",
       "Name: Credit Score, dtype: float64"
      ]
     },
     "execution_count": 75,
     "metadata": {},
     "output_type": "execute_result"
    }
   ],
   "source": [
    "df_score_res.loc[:, 'Credit Score'] = regressor.predict(df_score_res.loc[:, FEATURES])\n",
    "df_score_res['Credit Score'].describe()"
   ]
  },
  {
   "cell_type": "code",
   "execution_count": 76,
   "metadata": {},
   "outputs": [
    {
     "name": "stdout",
     "output_type": "stream",
     "text": [
      "<class 'pandas.core.frame.DataFrame'>\n",
      "RangeIndex: 2500 entries, 0 to 2499\n",
      "Data columns (total 23 columns):\n",
      " #   Column                        Non-Null Count  Dtype  \n",
      "---  ------                        --------------  -----  \n",
      " 0   Home Ownership                2500 non-null   uint8  \n",
      " 1   Annual Income                 2500 non-null   float64\n",
      " 2   Years in current job          2500 non-null   uint8  \n",
      " 3   Tax Liens                     2500 non-null   int64  \n",
      " 4   Number of Open Accounts       2500 non-null   float64\n",
      " 5   Years of Credit History       2500 non-null   uint8  \n",
      " 6   Maximum Open Credit           2500 non-null   float64\n",
      " 7   Number of Credit Problems     2500 non-null   int64  \n",
      " 8   Months since last delinquent  1142 non-null   float64\n",
      " 9   Bankruptcies                  2497 non-null   float64\n",
      " 10  Term                          2500 non-null   uint8  \n",
      " 11  Current Loan Amount           2500 non-null   float64\n",
      " 12  Current Credit Balance        2500 non-null   float64\n",
      " 13  Monthly Debt                  2500 non-null   float64\n",
      " 14  Credit Score                  1987 non-null   float64\n",
      " 15  Purpose_0                     2500 non-null   uint8  \n",
      " 16  Purpose_1                     2500 non-null   uint8  \n",
      " 17  Purpose_2                     2500 non-null   uint8  \n",
      " 18  tax_problems_0                2500 non-null   uint8  \n",
      " 19  tax_problems_1                2500 non-null   uint8  \n",
      " 20  tax_problems_2                2500 non-null   uint8  \n",
      " 21  Current Loan Max              2500 non-null   int64  \n",
      " 22  Credit Score Max              2500 non-null   int64  \n",
      "dtypes: float64(9), int64(4), uint8(10)\n",
      "memory usage: 278.4 KB\n"
     ]
    }
   ],
   "source": [
    "df.loc[df_score_res.index, 'Credit Score'] = df_score_res['Credit Score']\n",
    "df.info()"
   ]
  },
  {
   "cell_type": "code",
   "execution_count": 159,
   "metadata": {},
   "outputs": [],
   "source": [
    "df['Credit Score'] = sp.stats.yeojohnson(df['Credit Score'], lambdas['credit_score_lambda'])"
   ]
  },
  {
   "cell_type": "code",
   "execution_count": 77,
   "metadata": {},
   "outputs": [
    {
     "data": {
      "text/plain": [
       "<matplotlib.axes._subplots.AxesSubplot at 0x1261ddfa0>"
      ]
     },
     "execution_count": 77,
     "metadata": {},
     "output_type": "execute_result"
    },
    {
     "data": {
      "image/png": "[encoded data removed]",
      "text/plain": [
       "<Figure size 432x288 with 1 Axes>"
      ]
     },
     "metadata": {
      "needs_background": "light"
     },
     "output_type": "display_data"
    }
   ],
   "source": [
    "sns.boxplot(df['Credit Score'])"
   ]
  },
  {
   "cell_type": "code",
   "execution_count": 78,
   "metadata": {},
   "outputs": [],
   "source": [
    "CAT_FEATURES.append('Credit Score Max')"
   ]
  },
  {
   "cell_type": "code",
   "execution_count": 79,
   "metadata": {},
   "outputs": [],
   "source": [
    "NUM_FEATURES = ['Maximum Open Credit',\n",
    " 'Current Loan Amount',\n",
    " 'Annual Income',\n",
    " 'Number of Open Accounts',\n",
    " 'Monthly Debt',\n",
    " 'Credit Score']"
   ]
  },
  {
   "cell_type": "code",
   "execution_count": 80,
   "metadata": {},
   "outputs": [],
   "source": [
    "CAT_FEATURES = ['Years in current job',\n",
    " 'Home Ownership',\n",
    " 'Term',\n",
    " 'Years of Credit History',\n",
    " 'Purpose_0',\n",
    " 'Purpose_1',\n",
    " 'Purpose_2',\n",
    " 'tax_problems_0',\n",
    " 'tax_problems_1',\n",
    " 'tax_problems_2',]"
   ]
  },
  {
   "cell_type": "code",
   "execution_count": 81,
   "metadata": {},
   "outputs": [],
   "source": [
    "FEATURE_NAMES = ['Maximum Open Credit', 'Current Loan Amount', 'Number of Open Accounts',\n",
    "       'Monthly Debt', 'Annual Income', 'Credit Score', 'Years in current job',\n",
    "       'Home Ownership', 'Term', 'Years of Credit History',\n",
    "       'Purpose_1', 'Purpose_2', 'tax_problems_0', 'Credit Score Max', 'Current Loan Max']"
   ]
  },
  {
   "cell_type": "markdown",
   "metadata": {},
   "source": [
    "## Классификация"
   ]
  },
  {
   "cell_type": "code",
   "execution_count": 82,
   "metadata": {},
   "outputs": [],
   "source": [
    "with open('model_scaler', 'rb') as f:\n",
    "    scaler = pickle.load(f)"
   ]
  },
  {
   "cell_type": "code",
   "execution_count": 83,
   "metadata": {},
   "outputs": [],
   "source": [
    "df[NUM_FEATURES] = scaler.transform(df[NUM_FEATURES])"
   ]
  },
  {
   "cell_type": "code",
   "execution_count": 84,
   "metadata": {},
   "outputs": [
    {
     "data": {
      "text/html": [
       "<div>\n",
       "<style scoped>\n",
       "    .dataframe tbody tr th:only-of-type {\n",
       "        vertical-align: middle;\n",
       "    }\n",
       "\n",
       "    .dataframe tbody tr th {\n",
       "        vertical-align: top;\n",
       "    }\n",
       "\n",
       "    .dataframe thead th {\n",
       "        text-align: right;\n",
       "    }\n",
       "</style>\n",
       "<table border=\"1\" class=\"dataframe\">\n",
       "  <thead>\n",
       "    <tr style=\"text-align: right;\">\n",
       "      <th></th>\n",
       "      <th>Maximum Open Credit</th>\n",
       "      <th>Current Loan Amount</th>\n",
       "      <th>Annual Income</th>\n",
       "      <th>Number of Open Accounts</th>\n",
       "      <th>Monthly Debt</th>\n",
       "      <th>Credit Score</th>\n",
       "    </tr>\n",
       "  </thead>\n",
       "  <tbody>\n",
       "    <tr>\n",
       "      <th>count</th>\n",
       "      <td>2500.000000</td>\n",
       "      <td>2500.000000</td>\n",
       "      <td>2.500000e+03</td>\n",
       "      <td>2500.000000</td>\n",
       "      <td>2500.000000</td>\n",
       "      <td>1987.000000</td>\n",
       "    </tr>\n",
       "    <tr>\n",
       "      <th>mean</th>\n",
       "      <td>0.118808</td>\n",
       "      <td>0.018341</td>\n",
       "      <td>3.523029e+06</td>\n",
       "      <td>0.001768</td>\n",
       "      <td>0.030733</td>\n",
       "      <td>0.037717</td>\n",
       "    </tr>\n",
       "    <tr>\n",
       "      <th>std</th>\n",
       "      <td>1.302182</td>\n",
       "      <td>1.013465</td>\n",
       "      <td>2.191668e+06</td>\n",
       "      <td>0.963759</td>\n",
       "      <td>1.084822</td>\n",
       "      <td>0.579078</td>\n",
       "    </tr>\n",
       "    <tr>\n",
       "      <th>min</th>\n",
       "      <td>-5.859847</td>\n",
       "      <td>-3.003421</td>\n",
       "      <td>2.751662e+05</td>\n",
       "      <td>-3.757258</td>\n",
       "      <td>-3.265066</td>\n",
       "      <td>-2.067838</td>\n",
       "    </tr>\n",
       "    <tr>\n",
       "      <th>25%</th>\n",
       "      <td>-0.648757</td>\n",
       "      <td>-0.592512</td>\n",
       "      <td>2.311325e+06</td>\n",
       "      <td>-0.568962</td>\n",
       "      <td>-0.669015</td>\n",
       "      <td>-0.285386</td>\n",
       "    </tr>\n",
       "    <tr>\n",
       "      <th>50%</th>\n",
       "      <td>0.056170</td>\n",
       "      <td>-0.050285</td>\n",
       "      <td>3.102914e+06</td>\n",
       "      <td>-0.067823</td>\n",
       "      <td>0.072326</td>\n",
       "      <td>0.206917</td>\n",
       "    </tr>\n",
       "    <tr>\n",
       "      <th>75%</th>\n",
       "      <td>0.812463</td>\n",
       "      <td>0.685185</td>\n",
       "      <td>4.175899e+06</td>\n",
       "      <td>0.607546</td>\n",
       "      <td>0.731570</td>\n",
       "      <td>0.429662</td>\n",
       "    </tr>\n",
       "    <tr>\n",
       "      <th>max</th>\n",
       "      <td>11.586787</td>\n",
       "      <td>2.178635</td>\n",
       "      <td>3.868539e+07</td>\n",
       "      <td>2.319037</td>\n",
       "      <td>4.281431</td>\n",
       "      <td>1.039440</td>\n",
       "    </tr>\n",
       "  </tbody>\n",
       "</table>\n",
       "</div>"
      ],
      "text/plain": [
       "       Maximum Open Credit  Current Loan Amount  Annual Income  \\\n",
       "count          2500.000000          2500.000000   2.500000e+03   \n",
       "mean              0.118808             0.018341   3.523029e+06   \n",
       "std               1.302182             1.013465   2.191668e+06   \n",
       "min              -5.859847            -3.003421   2.751662e+05   \n",
       "25%              -0.648757            -0.592512   2.311325e+06   \n",
       "50%               0.056170            -0.050285   3.102914e+06   \n",
       "75%               0.812463             0.685185   4.175899e+06   \n",
       "max              11.586787             2.178635   3.868539e+07   \n",
       "\n",
       "       Number of Open Accounts  Monthly Debt  Credit Score  \n",
       "count              2500.000000   2500.000000   1987.000000  \n",
       "mean                  0.001768      0.030733      0.037717  \n",
       "std                   0.963759      1.084822      0.579078  \n",
       "min                  -3.757258     -3.265066     -2.067838  \n",
       "25%                  -0.568962     -0.669015     -0.285386  \n",
       "50%                  -0.067823      0.072326      0.206917  \n",
       "75%                   0.607546      0.731570      0.429662  \n",
       "max                   2.319037      4.281431      1.039440  "
      ]
     },
     "execution_count": 84,
     "metadata": {},
     "output_type": "execute_result"
    }
   ],
   "source": [
    "df[NUM_FEATURES].describe()"
   ]
  },
  {
   "cell_type": "code",
   "execution_count": 85,
   "metadata": {},
   "outputs": [
    {
     "data": {
      "text/plain": [
       "0    2340\n",
       "1     160\n",
       "Name: Credit Score Max, dtype: int64"
      ]
     },
     "execution_count": 85,
     "metadata": {},
     "output_type": "execute_result"
    }
   ],
   "source": [
    "df['Credit Score Max'].value_counts()"
   ]
  },
  {
   "cell_type": "code",
   "execution_count": 86,
   "metadata": {},
   "outputs": [
    {
     "data": {
      "text/plain": [
       "count    2500.000000\n",
       "mean        0.001768\n",
       "std         0.963759\n",
       "min        -3.757258\n",
       "25%        -0.568962\n",
       "50%        -0.067823\n",
       "75%         0.607546\n",
       "max         2.319037\n",
       "Name: Number of Open Accounts, dtype: float64"
      ]
     },
     "execution_count": 86,
     "metadata": {},
     "output_type": "execute_result"
    }
   ],
   "source": [
    "df['Number of Open Accounts'].describe()"
   ]
  },
  {
   "cell_type": "code",
   "execution_count": 87,
   "metadata": {},
   "outputs": [],
   "source": [
    "with open('model_class.bin', 'rb') as f:\n",
    "    final_model = pickle.load(f)"
   ]
  },
  {
   "cell_type": "code",
   "execution_count": 88,
   "metadata": {},
   "outputs": [
    {
     "data": {
      "text/plain": [
       "(-5.85984664050229, 11.586786633992581)"
      ]
     },
     "execution_count": 88,
     "metadata": {},
     "output_type": "execute_result"
    }
   ],
   "source": [
    "df['Maximum Open Credit'].min(), df['Maximum Open Credit'].max()"
   ]
  },
  {
   "cell_type": "code",
   "execution_count": 89,
   "metadata": {},
   "outputs": [],
   "source": [
    "df1 = deepcopy(df)"
   ]
  },
  {
   "cell_type": "code",
   "execution_count": 91,
   "metadata": {},
   "outputs": [],
   "source": [
    "y = final_model.predict(df1[FEATURE_NAMES])"
   ]
  },
  {
   "cell_type": "code",
   "execution_count": 92,
   "metadata": {},
   "outputs": [],
   "source": [
    "y_proba = final_model.predict_proba(df1[FEATURE_NAMES])"
   ]
  },
  {
   "cell_type": "code",
   "execution_count": 107,
   "metadata": {},
   "outputs": [],
   "source": [
    "s = pd.Series(data=(y_proba[:,1] > 0.4).astype(int), name='Credit Default')"
   ]
  },
  {
   "cell_type": "code",
   "execution_count": 108,
   "metadata": {},
   "outputs": [],
   "source": [
    "s.to_csv('KKrasov_predict_default.csv', index=False)"
   ]
  },
  {
   "cell_type": "code",
   "execution_count": 105,
   "metadata": {},
   "outputs": [],
   "source": [
    "y1 = (y_proba[:,1] > 0.4).astype(int)"
   ]
  },
  {
   "cell_type": "code",
   "execution_count": 106,
   "metadata": {},
   "outputs": [
    {
     "data": {
      "text/plain": [
       "197"
      ]
     },
     "execution_count": 106,
     "metadata": {},
     "output_type": "execute_result"
    }
   ],
   "source": [
    "len(y1[y1==1])"
   ]
  },
  {
   "cell_type": "code",
   "execution_count": 97,
   "metadata": {},
   "outputs": [
    {
     "data": {
      "text/plain": [
       "164"
      ]
     },
     "execution_count": 97,
     "metadata": {},
     "output_type": "execute_result"
    }
   ],
   "source": [
    "len(y[y==1])"
   ]
  },
  {
   "cell_type": "code",
   "execution_count": 99,
   "metadata": {},
   "outputs": [
    {
     "data": {
      "text/html": [
       "<div>\n",
       "<style scoped>\n",
       "    .dataframe tbody tr th:only-of-type {\n",
       "        vertical-align: middle;\n",
       "    }\n",
       "\n",
       "    .dataframe tbody tr th {\n",
       "        vertical-align: top;\n",
       "    }\n",
       "\n",
       "    .dataframe thead th {\n",
       "        text-align: right;\n",
       "    }\n",
       "</style>\n",
       "<table border=\"1\" class=\"dataframe\">\n",
       "  <thead>\n",
       "    <tr style=\"text-align: right;\">\n",
       "      <th></th>\n",
       "      <th>Years in current job</th>\n",
       "      <th>Home Ownership</th>\n",
       "      <th>Term</th>\n",
       "      <th>Years of Credit History</th>\n",
       "      <th>Purpose_0</th>\n",
       "      <th>Purpose_1</th>\n",
       "      <th>Purpose_2</th>\n",
       "      <th>tax_problems_0</th>\n",
       "      <th>tax_problems_1</th>\n",
       "      <th>tax_problems_2</th>\n",
       "    </tr>\n",
       "  </thead>\n",
       "  <tbody>\n",
       "    <tr>\n",
       "      <th>count</th>\n",
       "      <td>2500.000000</td>\n",
       "      <td>2500.000000</td>\n",
       "      <td>2500.000000</td>\n",
       "      <td>2500.000000</td>\n",
       "      <td>2500.000000</td>\n",
       "      <td>2500.000000</td>\n",
       "      <td>2500.000000</td>\n",
       "      <td>2500.000000</td>\n",
       "      <td>2500.000000</td>\n",
       "      <td>2500.000000</td>\n",
       "    </tr>\n",
       "    <tr>\n",
       "      <th>mean</th>\n",
       "      <td>0.965600</td>\n",
       "      <td>0.492800</td>\n",
       "      <td>0.255600</td>\n",
       "      <td>0.656400</td>\n",
       "      <td>0.983200</td>\n",
       "      <td>0.014000</td>\n",
       "      <td>0.002800</td>\n",
       "      <td>0.004000</td>\n",
       "      <td>0.982800</td>\n",
       "      <td>0.013200</td>\n",
       "    </tr>\n",
       "    <tr>\n",
       "      <th>std</th>\n",
       "      <td>0.182291</td>\n",
       "      <td>0.500048</td>\n",
       "      <td>0.436285</td>\n",
       "      <td>0.475005</td>\n",
       "      <td>0.128547</td>\n",
       "      <td>0.117514</td>\n",
       "      <td>0.052851</td>\n",
       "      <td>0.063132</td>\n",
       "      <td>0.130042</td>\n",
       "      <td>0.114153</td>\n",
       "    </tr>\n",
       "    <tr>\n",
       "      <th>min</th>\n",
       "      <td>0.000000</td>\n",
       "      <td>0.000000</td>\n",
       "      <td>0.000000</td>\n",
       "      <td>0.000000</td>\n",
       "      <td>0.000000</td>\n",
       "      <td>0.000000</td>\n",
       "      <td>0.000000</td>\n",
       "      <td>0.000000</td>\n",
       "      <td>0.000000</td>\n",
       "      <td>0.000000</td>\n",
       "    </tr>\n",
       "    <tr>\n",
       "      <th>25%</th>\n",
       "      <td>1.000000</td>\n",
       "      <td>0.000000</td>\n",
       "      <td>0.000000</td>\n",
       "      <td>0.000000</td>\n",
       "      <td>1.000000</td>\n",
       "      <td>0.000000</td>\n",
       "      <td>0.000000</td>\n",
       "      <td>0.000000</td>\n",
       "      <td>1.000000</td>\n",
       "      <td>0.000000</td>\n",
       "    </tr>\n",
       "    <tr>\n",
       "      <th>50%</th>\n",
       "      <td>1.000000</td>\n",
       "      <td>0.000000</td>\n",
       "      <td>0.000000</td>\n",
       "      <td>1.000000</td>\n",
       "      <td>1.000000</td>\n",
       "      <td>0.000000</td>\n",
       "      <td>0.000000</td>\n",
       "      <td>0.000000</td>\n",
       "      <td>1.000000</td>\n",
       "      <td>0.000000</td>\n",
       "    </tr>\n",
       "    <tr>\n",
       "      <th>75%</th>\n",
       "      <td>1.000000</td>\n",
       "      <td>1.000000</td>\n",
       "      <td>1.000000</td>\n",
       "      <td>1.000000</td>\n",
       "      <td>1.000000</td>\n",
       "      <td>0.000000</td>\n",
       "      <td>0.000000</td>\n",
       "      <td>0.000000</td>\n",
       "      <td>1.000000</td>\n",
       "      <td>0.000000</td>\n",
       "    </tr>\n",
       "    <tr>\n",
       "      <th>max</th>\n",
       "      <td>1.000000</td>\n",
       "      <td>1.000000</td>\n",
       "      <td>1.000000</td>\n",
       "      <td>1.000000</td>\n",
       "      <td>1.000000</td>\n",
       "      <td>1.000000</td>\n",
       "      <td>1.000000</td>\n",
       "      <td>1.000000</td>\n",
       "      <td>1.000000</td>\n",
       "      <td>1.000000</td>\n",
       "    </tr>\n",
       "  </tbody>\n",
       "</table>\n",
       "</div>"
      ],
      "text/plain": [
       "       Years in current job  Home Ownership         Term  \\\n",
       "count           2500.000000     2500.000000  2500.000000   \n",
       "mean               0.965600        0.492800     0.255600   \n",
       "std                0.182291        0.500048     0.436285   \n",
       "min                0.000000        0.000000     0.000000   \n",
       "25%                1.000000        0.000000     0.000000   \n",
       "50%                1.000000        0.000000     0.000000   \n",
       "75%                1.000000        1.000000     1.000000   \n",
       "max                1.000000        1.000000     1.000000   \n",
       "\n",
       "       Years of Credit History    Purpose_0    Purpose_1    Purpose_2  \\\n",
       "count              2500.000000  2500.000000  2500.000000  2500.000000   \n",
       "mean                  0.656400     0.983200     0.014000     0.002800   \n",
       "std                   0.475005     0.128547     0.117514     0.052851   \n",
       "min                   0.000000     0.000000     0.000000     0.000000   \n",
       "25%                   0.000000     1.000000     0.000000     0.000000   \n",
       "50%                   1.000000     1.000000     0.000000     0.000000   \n",
       "75%                   1.000000     1.000000     0.000000     0.000000   \n",
       "max                   1.000000     1.000000     1.000000     1.000000   \n",
       "\n",
       "       tax_problems_0  tax_problems_1  tax_problems_2  \n",
       "count     2500.000000     2500.000000     2500.000000  \n",
       "mean         0.004000        0.982800        0.013200  \n",
       "std          0.063132        0.130042        0.114153  \n",
       "min          0.000000        0.000000        0.000000  \n",
       "25%          0.000000        1.000000        0.000000  \n",
       "50%          0.000000        1.000000        0.000000  \n",
       "75%          0.000000        1.000000        0.000000  \n",
       "max          1.000000        1.000000        1.000000  "
      ]
     },
     "execution_count": 99,
     "metadata": {},
     "output_type": "execute_result"
    }
   ],
   "source": [
    "df[CAT_FEATURES].describe()"
   ]
  },
  {
   "cell_type": "code",
   "execution_count": 100,
   "metadata": {},
   "outputs": [
    {
     "data": {
      "text/plain": [
       "['Maximum Open Credit',\n",
       " 'Current Loan Amount',\n",
       " 'Number of Open Accounts',\n",
       " 'Monthly Debt',\n",
       " 'Annual Income',\n",
       " 'Credit Score',\n",
       " 'Years in current job',\n",
       " 'Home Ownership',\n",
       " 'Term',\n",
       " 'Years of Credit History',\n",
       " 'Purpose_1',\n",
       " 'Purpose_2',\n",
       " 'tax_problems_0',\n",
       " 'Credit Score Max',\n",
       " 'Current Loan Max']"
      ]
     },
     "execution_count": 100,
     "metadata": {},
     "output_type": "execute_result"
    }
   ],
   "source": [
    "FEATURE_NAMES"
   ]
  },
  {
   "cell_type": "code",
   "execution_count": null,
   "metadata": {},
   "outputs": [],
   "source": []
  }
 ],
 "metadata": {
  "kernelspec": {
   "display_name": "Python 3",
   "language": "python",
   "name": "python3"
  },
  "language_info": {
   "codemirror_mode": {
    "name": "ipython",
    "version": 3
   },
   "file_extension": ".py",
   "mimetype": "text/x-python",
   "name": "python",
   "nbconvert_exporter": "python",
   "pygments_lexer": "ipython3",
   "version": "3.8.0"
  }
 },
 "nbformat": 4,
 "nbformat_minor": 4
}
